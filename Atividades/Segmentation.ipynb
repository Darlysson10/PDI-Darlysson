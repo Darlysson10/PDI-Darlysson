{
 "cells": [
  {
   "cell_type": "markdown",
   "metadata": {},
   "source": [
    "Segment images:\n",
    "beans,\n",
    "blobs,\n",
    "chips,\n",
    "coffee,\n",
    "dowels,\n",
    "rice,\n",
    "gecko"
   ]
  },
  {
   "cell_type": "code",
   "execution_count": null,
   "metadata": {},
   "outputs": [],
   "source": []
  }
 ],
 "metadata": {
  "language_info": {
   "name": "python"
  }
 },
 "nbformat": 4,
 "nbformat_minor": 2
}
