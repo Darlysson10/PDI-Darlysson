{
  "cells": [
    {
      "cell_type": "code",
      "execution_count": 2,
      "metadata": {
        "id": "M4Wz_o4nz2qC"
      },
      "outputs": [],
      "source": [
        "import numpy as np"
      ]
    },
    {
      "cell_type": "markdown",
      "metadata": {
        "id": "EGiQ8HzC0JPu"
      },
      "source": [
        "# NumPy Array\n"
      ]
    },
    {
      "cell_type": "markdown",
      "metadata": {
        "id": "NpNnMVZb0wiQ"
      },
      "source": [
        "## How to create an empty and a full NumPy array?"
      ]
    },
    {
      "cell_type": "code",
      "execution_count": 3,
      "metadata": {
        "colab": {
          "base_uri": "https://localhost:8080/"
        },
        "id": "eIN2hekH07JI",
        "outputId": "8e824337-d3ab-40e2-93a2-a2904824b2f0"
      },
      "outputs": [
        {
          "name": "stdout",
          "output_type": "stream",
          "text": [
            "Empty:\n",
            "\n"
          ]
        },
        {
          "data": {
            "text/plain": [
              "array([2.76455339e+257, 6.07959830e+228, 6.01391562e-154, 6.01347002e-154,\n",
              "       1.35726134e+248, 2.18186254e+243, 4.89584248e-085, 6.13331457e-154,\n",
              "       6.01347002e-154, 1.52802217e+228])"
            ]
          },
          "execution_count": 3,
          "metadata": {},
          "output_type": "execute_result"
        }
      ],
      "source": [
        "# empty\n",
        "print(\"Empty:\\n\")\n",
        "size = 10\n",
        "array = np.empty(size)\n",
        "array"
      ]
    },
    {
      "cell_type": "code",
      "execution_count": 4,
      "metadata": {
        "colab": {
          "base_uri": "https://localhost:8080/"
        },
        "id": "mWTwyDnL1jx2",
        "outputId": "f7251cae-468c-4958-c72a-91473d815bdc"
      },
      "outputs": [
        {
          "name": "stdout",
          "output_type": "stream",
          "text": [
            "Full:\n",
            "\n"
          ]
        },
        {
          "data": {
            "text/plain": [
              "array([10, 10, 10, 10, 10, 10, 10, 10, 10, 10])"
            ]
          },
          "execution_count": 4,
          "metadata": {},
          "output_type": "execute_result"
        }
      ],
      "source": [
        "# FULL\n",
        "print(\"Full:\\n\")\n",
        "array = np.full(size, 10)\n",
        "array"
      ]
    },
    {
      "cell_type": "markdown",
      "metadata": {
        "id": "cqXz5SjK16yl"
      },
      "source": [
        "## Create a Numpy array filled with all zeros"
      ]
    },
    {
      "cell_type": "code",
      "execution_count": 5,
      "metadata": {
        "colab": {
          "base_uri": "https://localhost:8080/"
        },
        "id": "erkUR4eD2E0z",
        "outputId": "c29537bf-7298-4846-c4cc-06fc0689f8cc"
      },
      "outputs": [
        {
          "data": {
            "text/plain": [
              "array([0., 0., 0., 0., 0., 0., 0., 0., 0., 0.])"
            ]
          },
          "execution_count": 5,
          "metadata": {},
          "output_type": "execute_result"
        }
      ],
      "source": [
        "array = np.zeros(size)\n",
        "array"
      ]
    },
    {
      "cell_type": "markdown",
      "metadata": {
        "id": "R-m9NGNF2k5u"
      },
      "source": [
        "## Create a Numpy array filled with all ones"
      ]
    },
    {
      "cell_type": "code",
      "execution_count": 6,
      "metadata": {
        "colab": {
          "base_uri": "https://localhost:8080/"
        },
        "id": "FPLBkp1t2ml_",
        "outputId": "aa8bce4a-2db1-4849-cb0d-a08ae1d20025"
      },
      "outputs": [
        {
          "data": {
            "text/plain": [
              "array([[1., 1., 1., 1., 1.],\n",
              "       [1., 1., 1., 1., 1.],\n",
              "       [1., 1., 1., 1., 1.],\n",
              "       [1., 1., 1., 1., 1.],\n",
              "       [1., 1., 1., 1., 1.]])"
            ]
          },
          "execution_count": 6,
          "metadata": {},
          "output_type": "execute_result"
        }
      ],
      "source": [
        "array = np.ones((5,5))\n",
        "array"
      ]
    },
    {
      "cell_type": "markdown",
      "metadata": {
        "id": "rCX0YXBy3j22"
      },
      "source": [
        "## Check whether a Numpy array contains a specified row"
      ]
    },
    {
      "cell_type": "code",
      "execution_count": 7,
      "metadata": {
        "colab": {
          "base_uri": "https://localhost:8080/"
        },
        "id": "pjs7TgzL3lWt",
        "outputId": "cc26b712-fe61-4d8d-b3b7-b486df465164"
      },
      "outputs": [
        {
          "name": "stdout",
          "output_type": "stream",
          "text": [
            "Test 1:  False\n",
            "Test 2:  True\n"
          ]
        }
      ],
      "source": [
        "#Iremos comparar com o array da questão anterior\n",
        "\n",
        "linha = [1, 2, 3, 4, 5]\n",
        "contains = linha in array.tolist()\n",
        "print(\"Test 1: \", contains)\n",
        "\n",
        "linha2 = [1, 1, 1, 1, 1]\n",
        "contains = linha2 in array.tolist()\n",
        "print(\"Test 2: \", contains)"
      ]
    },
    {
      "cell_type": "markdown",
      "metadata": {
        "id": "aUK6u2v35mod"
      },
      "source": [
        "## How to Remove rows in Numpy array that contains non-numeric values?"
      ]
    },
    {
      "cell_type": "code",
      "execution_count": 8,
      "metadata": {
        "colab": {
          "base_uri": "https://localhost:8080/"
        },
        "id": "P7lZvsuX5oQ4",
        "outputId": "02eea8a2-6c07-4a26-dbe8-00ecbeee079f"
      },
      "outputs": [
        {
          "name": "stdout",
          "output_type": "stream",
          "text": [
            "Array sem remoção: \n",
            " [[ 1.  2.  3.  4.  5.]\n",
            " [ 6.  7. nan nan nan]]\n",
            "\n",
            "Array com remoção: \n",
            " [[1. 2. 3. 4. 5.]]\n"
          ]
        }
      ],
      "source": [
        "array = np.array([[1, 2, 3, 4, 5],[6, 7, np.nan, np.nan, np.nan]])\n",
        "print(\"Array sem remoção: \\n\", array)\n",
        "array_row_removed = array[~np.isnan(array).any(axis=1)]\n",
        "print(\"\\nArray com remoção: \\n\", array_row_removed)"
      ]
    },
    {
      "cell_type": "markdown",
      "metadata": {
        "id": "J9eQft-k7mT4"
      },
      "source": [
        "## Remove single-dimensional entries from the shape of an array"
      ]
    },
    {
      "cell_type": "code",
      "execution_count": 9,
      "metadata": {
        "colab": {
          "base_uri": "https://localhost:8080/"
        },
        "id": "edjxy9sb7nif",
        "outputId": "37e61fa7-2cd5-46f3-fae3-ce8a74bca68f"
      },
      "outputs": [
        {
          "name": "stdout",
          "output_type": "stream",
          "text": [
            "Inicialmente: \n",
            " [[[1]\n",
            "  [2]\n",
            "  [3]]\n",
            "\n",
            " [[4]\n",
            "  [5]\n",
            "  [6]]]\n",
            "\n",
            "Formato:  (2, 3, 1)\n",
            "\n",
            "Após o squeeze: \n",
            " [[1 2 3]\n",
            " [4 5 6]]\n",
            "\n",
            "Novo formato:  (2, 3)\n"
          ]
        }
      ],
      "source": [
        "array = np.array([[[1], [2], [3]], [[4], [5],[6]]])\n",
        "print(\"Inicialmente: \\n\", array)\n",
        "print(\"\\nFormato: \", array.shape)\n",
        "out = np.squeeze(array)\n",
        "\n",
        "print(\"\\nApós o squeeze: \\n\", out)\n",
        "print(\"\\nNovo formato: \", out.shape)"
      ]
    },
    {
      "cell_type": "markdown",
      "metadata": {
        "id": "6yXFSccm_D94"
      },
      "source": [
        "## Find the number of occurrences of a sequence in a NumPy array"
      ]
    },
    {
      "cell_type": "code",
      "execution_count": 10,
      "metadata": {
        "colab": {
          "base_uri": "https://localhost:8080/"
        },
        "id": "3RO63nyf_MOf",
        "outputId": "f62b6e87-834a-4a15-ee28-bcc5ac206bf2"
      },
      "outputs": [
        {
          "name": "stdout",
          "output_type": "stream",
          "text": [
            "Ocorrencia da frequencia que mais se repete:  3  vezes.\n"
          ]
        }
      ],
      "source": [
        "array = np.array([[88, 11, 73, 22], [61, 78, 73, 22], [95, 31, 73, 22]])\n",
        "count = repr(array).count(\"73, 22\")\n",
        "print(\"Ocorrencia da frequencia que mais se repete: \", count, \" vezes.\")"
      ]
    },
    {
      "cell_type": "markdown",
      "metadata": {
        "id": "TY-hQ9K_DDxi"
      },
      "source": [
        "##Find the most frequent value in a NumPy array"
      ]
    },
    {
      "cell_type": "code",
      "execution_count": 11,
      "metadata": {
        "colab": {
          "base_uri": "https://localhost:8080/"
        },
        "id": "-myhUwONDFEi",
        "outputId": "d9e1ed60-1935-4300-f7f5-9e5e393bb53c"
      },
      "outputs": [
        {
          "data": {
            "text/plain": [
              "4"
            ]
          },
          "execution_count": 11,
          "metadata": {},
          "output_type": "execute_result"
        }
      ],
      "source": [
        "array = np.array([1, 2, 3, 4, 5, 4, 7, 4, 9, 4])\n",
        "np.bincount(array).argmax()"
      ]
    },
    {
      "cell_type": "markdown",
      "metadata": {
        "id": "9DH_nbaPFJb8"
      },
      "source": [
        "##Combining a one and a two-dimensional NumPy Array"
      ]
    },
    {
      "cell_type": "code",
      "execution_count": 12,
      "metadata": {
        "colab": {
          "base_uri": "https://localhost:8080/"
        },
        "id": "Cm2RY6F6FLAn",
        "outputId": "7a250807-bc05-413d-9f87-d0759fba6cd1"
      },
      "outputs": [
        {
          "name": "stdout",
          "output_type": "stream",
          "text": [
            "array 1: \n",
            " [[1 2]\n",
            " [3 4]]\n",
            "\n",
            "array 2: \n",
            " [5 6]\n",
            "\n",
            "combining: \n",
            " [[1 2]\n",
            " [3 4]\n",
            " [5 6]]\n"
          ]
        }
      ],
      "source": [
        "a = np.array([[1, 2], [3, 4]])\n",
        "b = np.array([5, 6])\n",
        "\n",
        "print(\"array 1: \\n\", a)\n",
        "print(\"\\narray 2: \\n\", b)\n",
        "print(\"\\ncombining: \\n\", np.vstack((a, b)))"
      ]
    },
    {
      "cell_type": "markdown",
      "metadata": {
        "id": "dr_atc4XFlKE"
      },
      "source": [
        "## How to build an array of all combinations of two NumPy arrays?"
      ]
    },
    {
      "cell_type": "code",
      "execution_count": 13,
      "metadata": {
        "colab": {
          "base_uri": "https://localhost:8080/"
        },
        "id": "UGTtjqZCFipc",
        "outputId": "26a1f60a-3a27-4eb4-d801-9babd076f346"
      },
      "outputs": [
        {
          "data": {
            "text/plain": [
              "array([[1, 3],\n",
              "       [1, 4],\n",
              "       [2, 3],\n",
              "       [2, 4],\n",
              "       [1, 2],\n",
              "       [3, 4]])"
            ]
          },
          "execution_count": 13,
          "metadata": {},
          "output_type": "execute_result"
        }
      ],
      "source": [
        "array1 = np.array([1, 2])\n",
        "array2 = np.array([3, 4]) \n",
        "\n",
        "c = np.array(np.meshgrid(array1, array2)).T.reshape(-1, 2)\n",
        "c = np.vstack((c, array1))\n",
        "c = np.vstack((c, array2))\n",
        "c"
      ]
    },
    {
      "cell_type": "markdown",
      "metadata": {
        "id": "gJFwx3-BIEhG"
      },
      "source": [
        "##How to add a border around a NumPy array?"
      ]
    },
    {
      "cell_type": "code",
      "execution_count": 14,
      "metadata": {
        "colab": {
          "base_uri": "https://localhost:8080/"
        },
        "id": "PxyizkfeIHhp",
        "outputId": "f7aa8abf-65a8-4edd-fd0c-f0a196d7b60f"
      },
      "outputs": [
        {
          "name": "stdout",
          "output_type": "stream",
          "text": [
            "array de 'ums':\n",
            "\n",
            " [[1. 1. 1. 1. 1.]\n",
            " [1. 1. 1. 1. 1.]\n",
            " [1. 1. 1. 1. 1.]\n",
            " [1. 1. 1. 1. 1.]\n",
            " [1. 1. 1. 1. 1.]]\n",
            "\n",
            "----------\n",
            "array com borda:\n",
            "\n",
            " [[0. 0. 0. 0. 0. 0. 0.]\n",
            " [0. 1. 1. 1. 1. 1. 0.]\n",
            " [0. 1. 1. 1. 1. 1. 0.]\n",
            " [0. 1. 1. 1. 1. 1. 0.]\n",
            " [0. 1. 1. 1. 1. 1. 0.]\n",
            " [0. 1. 1. 1. 1. 1. 0.]\n",
            " [0. 0. 0. 0. 0. 0. 0.]]\n"
          ]
        }
      ],
      "source": [
        "array = np.ones((5, 5))\n",
        "print(\"array de 'ums':\\n\\n\", array)\n",
        "\n",
        "array_border = np.pad(array, pad_width=1, mode='constant', constant_values = 0)\n",
        "print(\"\\n----------\\narray com borda:\\n\\n\", array_border)"
      ]
    },
    {
      "cell_type": "markdown",
      "metadata": {
        "id": "PYSpRnz9JuAc"
      },
      "source": [
        "##How to compare two NumPy arrays?"
      ]
    },
    {
      "cell_type": "code",
      "execution_count": 15,
      "metadata": {
        "colab": {
          "base_uri": "https://localhost:8080/"
        },
        "id": "ll9CcB-zJvTr",
        "outputId": "d2233e2f-579f-4441-9c5d-d7dfb6304a38"
      },
      "outputs": [
        {
          "name": "stdout",
          "output_type": "stream",
          "text": [
            "Comparação array1 com array2: \n",
            " False\n",
            "\n",
            "Comparação array1 com array3: \n",
            " False\n",
            "\n",
            "Comparação array2 com array3: \n",
            " True\n"
          ]
        }
      ],
      "source": [
        "array1 = np.array([1, 2])\n",
        "array2 = np.array([3, 4])\n",
        "array3 = np.array([3 ,4])\n",
        "\n",
        "print(\"Comparação array1 com array2: \\n\", np.array_equal(array1, array2))\n",
        "\n",
        "print(\"\\nComparação array1 com array3: \\n\", np.array_equal(array1, array3))\n",
        "\n",
        "print(\"\\nComparação array2 com array3: \\n\", np.array_equal(array2, array3))"
      ]
    },
    {
      "cell_type": "markdown",
      "metadata": {
        "id": "nLxnU2BQK6yt"
      },
      "source": [
        "## How to check whether specified values are present in NumPy array?"
      ]
    },
    {
      "cell_type": "code",
      "execution_count": 16,
      "metadata": {
        "colab": {
          "base_uri": "https://localhost:8080/"
        },
        "id": "oPQacRaEK99T",
        "outputId": "14f2c9de-2aae-41bf-a6b1-e9a544a52db6"
      },
      "outputs": [
        {
          "name": "stdout",
          "output_type": "stream",
          "text": [
            "array:  [ 1  2  3  4  5  6  7  8  9 10]\n",
            "\n",
            "Check se 5 está presente no array:  True\n",
            "\n",
            "Check se 12 está presente no array:  False\n"
          ]
        }
      ],
      "source": [
        "array = np.array([1, 2, 3, 4, 5, 6, 7, 8, 9, 10])\n",
        "\n",
        "print(\"array: \", array)\n",
        "print(\"\\nCheck se 5 está presente no array: \", 5 in array)\n",
        "print(\"\\nCheck se 12 está presente no array: \", 12 in array)"
      ]
    },
    {
      "cell_type": "markdown",
      "metadata": {
        "id": "C2lMFC2rMHzl"
      },
      "source": [
        "## How to get all 2D diagonals of a 3D NumPy array?"
      ]
    },
    {
      "cell_type": "code",
      "execution_count": 17,
      "metadata": {
        "colab": {
          "base_uri": "https://localhost:8080/"
        },
        "id": "j6Z5VS3HMMLM",
        "outputId": "64ed9a8a-47cf-4ae6-9390-196be38868d6"
      },
      "outputs": [
        {
          "name": "stdout",
          "output_type": "stream",
          "text": [
            "[[[ 0  1  2  3  4]\n",
            "  [ 5  6  7  8  9]\n",
            "  [10 11 12 13 14]\n",
            "  [15 16 17 18 19]\n",
            "  [20 21 22 23 24]]\n",
            "\n",
            " [[25 26 27 28 29]\n",
            "  [30 31 32 33 34]\n",
            "  [35 36 37 38 39]\n",
            "  [40 41 42 43 44]\n",
            "  [45 46 47 48 49]]\n",
            "\n",
            " [[50 51 52 53 54]\n",
            "  [55 56 57 58 59]\n",
            "  [60 61 62 63 64]\n",
            "  [65 66 67 68 69]\n",
            "  [70 71 72 73 74]]]\n",
            "\n",
            "Diagonal\n",
            "[[ 0  6 12 18 24]\n",
            " [25 31 37 43 49]\n",
            " [50 56 62 68 74]]\n"
          ]
        }
      ],
      "source": [
        "array = np.arange(75).reshape(3,5,5)\n",
        "print(array)\n",
        "diag = np.diagonal(array,axis1=1,axis2=2)\n",
        "print(\"\\nDiagonal\")\n",
        "print(diag)"
      ]
    },
    {
      "cell_type": "markdown",
      "metadata": {
        "id": "o8G0C_6ZOCPm"
      },
      "source": [
        "## Flatten a Matrix in Python using NumPy"
      ]
    },
    {
      "cell_type": "code",
      "execution_count": 18,
      "metadata": {
        "colab": {
          "base_uri": "https://localhost:8080/"
        },
        "id": "Ks-U06t5OFiU",
        "outputId": "3c3b8f8a-7796-409d-e188-47978a31e25b"
      },
      "outputs": [
        {
          "name": "stdout",
          "output_type": "stream",
          "text": [
            "Matrix inicial: \n",
            " [[1 2]\n",
            " [3 4]\n",
            " [5 6]]\n",
            "\n",
            "Matrix flatten: \n",
            " [[1 2 3 4 5 6]]\n"
          ]
        }
      ],
      "source": [
        "array = np.matrix([[1, 2], [3, 4], [5, 6]])\n",
        "print(\"Matrix inicial: \\n\", array)\n",
        "array_flatten = array.flatten()\n",
        "print(\"\\nMatrix flatten: \\n\", array_flatten)"
      ]
    },
    {
      "cell_type": "markdown",
      "metadata": {
        "id": "fHLg1kWOOsvw"
      },
      "source": [
        "## Flatten a 2d numpy array into 1d array"
      ]
    },
    {
      "cell_type": "code",
      "execution_count": 19,
      "metadata": {
        "colab": {
          "base_uri": "https://localhost:8080/"
        },
        "id": "GPFS3QqIOwok",
        "outputId": "ce652063-85f0-4b8c-cffd-8f1e8781f1b9"
      },
      "outputs": [
        {
          "name": "stdout",
          "output_type": "stream",
          "text": [
            "array 2d inicial: \n",
            " [[1 2]\n",
            " [3 4]\n",
            " [5 6]]\n",
            "\n",
            "Matrix flatten: \n",
            " [1 2 3 4 5 6]\n"
          ]
        }
      ],
      "source": [
        "array = np.array([[1, 2], [3, 4], [5, 6]])\n",
        "print(\"array 2d inicial: \\n\", array)\n",
        "array_flatten = array.flatten()\n",
        "print(\"\\nMatrix flatten: \\n\", array_flatten)"
      ]
    },
    {
      "cell_type": "markdown",
      "metadata": {
        "id": "UWKjGYNSQLOE"
      },
      "source": [
        "## Move axes of an array to new positions"
      ]
    },
    {
      "cell_type": "code",
      "execution_count": 20,
      "metadata": {
        "colab": {
          "base_uri": "https://localhost:8080/"
        },
        "id": "MZykT5BcQNfv",
        "outputId": "3c4f67f8-77c3-46f2-d7a7-2fe0b3b58e7b"
      },
      "outputs": [
        {
          "name": "stdout",
          "output_type": "stream",
          "text": [
            "Array inicial: \n",
            " shape:  (3, 3, 2) \n",
            "\n",
            " [[[0. 0.]\n",
            "  [0. 0.]\n",
            "  [0. 0.]]\n",
            "\n",
            " [[0. 0.]\n",
            "  [0. 0.]\n",
            "  [0. 0.]]\n",
            "\n",
            " [[0. 0.]\n",
            "  [0. 0.]\n",
            "  [0. 0.]]]\n",
            "\n",
            "Array movido: \n",
            " shape:  (3, 2, 3) \n",
            "\n",
            " [[[0. 0. 0.]\n",
            "  [0. 0. 0.]]\n",
            "\n",
            " [[0. 0. 0.]\n",
            "  [0. 0. 0.]]\n",
            "\n",
            " [[0. 0. 0.]\n",
            "  [0. 0. 0.]]]\n"
          ]
        }
      ],
      "source": [
        "array = np.zeros((3, 3, 2))\n",
        "print(\"Array inicial: \\n\", \"shape: \", array.shape, \"\\n\\n\", array)\n",
        "an = np.moveaxis(array, 0, -1)\n",
        "print(\"\\nArray movido: \\n\", \"shape: \", an.shape, \"\\n\\n\", an)"
      ]
    },
    {
      "cell_type": "markdown",
      "metadata": {
        "id": "SDf6qN-XRbjV"
      },
      "source": [
        "## Interchange two axes of an array"
      ]
    },
    {
      "cell_type": "code",
      "execution_count": 21,
      "metadata": {
        "colab": {
          "base_uri": "https://localhost:8080/"
        },
        "id": "xOnkZp8jRd8d",
        "outputId": "5fc3e98e-067e-4ac5-a6be-cea320267cef"
      },
      "outputs": [
        {
          "name": "stdout",
          "output_type": "stream",
          "text": [
            "Array inicial: \n",
            " [[ 1  2  3]\n",
            " [ 4  5  6]\n",
            " [ 7  8  9]\n",
            " [10 11 12]]\n",
            "\n",
            "Array trocado: \n",
            " [[ 1  4  7 10]\n",
            " [ 2  5  8 11]\n",
            " [ 3  6  9 12]]\n"
          ]
        }
      ],
      "source": [
        "array = np.array([[1,2,3],[4,5,6],[7,8,9],[10,11,12]])\n",
        "print(\"Array inicial: \\n\", array)\n",
        "\n",
        "array2 = np.swapaxes(array,0,1)\n",
        "print(\"\\nArray trocado: \\n\", array2)"
      ]
    },
    {
      "cell_type": "markdown",
      "metadata": {
        "id": "6WzNyrL8SH_m"
      },
      "source": [
        "## NumPy – Fibonacci Series using Binet Formula"
      ]
    },
    {
      "cell_type": "code",
      "execution_count": 22,
      "metadata": {
        "colab": {
          "base_uri": "https://localhost:8080/"
        },
        "id": "HesdtmdUSRZ_",
        "outputId": "61dc96b5-c080-4b0b-acd0-99eb03c80dbc"
      },
      "outputs": [
        {
          "name": "stdout",
          "output_type": "stream",
          "text": [
            "Array inicial: \n",
            " [ 0  1  2  3  4  5  6  7  8  9 10]\n",
            "\n",
            "Array Fibonacci: \n",
            " [ 0.  1.  1.  2.  3.  5.  8. 13. 21. 34. 55.]\n"
          ]
        }
      ],
      "source": [
        "array = np.arange(0, 11)\n",
        "print(\"Array inicial: \\n\", array)\n",
        "lenA = len(array)\n",
        "sqrtFive = np.sqrt(5)\n",
        "alpha = (1 + sqrtFive) / 2\n",
        "beta = (1 - sqrtFive) / 2\n",
        "fibn = np.rint(((alpha ** array) - (beta ** array)) / (sqrtFive))\n",
        "print(\"\\nArray Fibonacci: \\n\", fibn)"
      ]
    },
    {
      "cell_type": "markdown",
      "metadata": {
        "id": "ewcMiVFcUSAh"
      },
      "source": [
        "## Counts the number of non-zero values in the array"
      ]
    },
    {
      "cell_type": "code",
      "execution_count": 23,
      "metadata": {
        "colab": {
          "base_uri": "https://localhost:8080/"
        },
        "id": "Ji6fr1FiUUyu",
        "outputId": "5592e1ec-0ad8-4a7a-9fc6-187739b76d4a"
      },
      "outputs": [
        {
          "name": "stdout",
          "output_type": "stream",
          "text": [
            "Array: \n",
            " [22 38 16 41  6  5 34 42 12 25]\n",
            "\n",
            "Numero de não zeros:  10\n"
          ]
        }
      ],
      "source": [
        "array = np.random.randint(50, size=10)\n",
        "print(\"Array: \\n\", array)\n",
        "print(\"\\nNumero de não zeros: \", np.count_nonzero(array))"
      ]
    },
    {
      "cell_type": "markdown",
      "metadata": {
        "id": "HkQ1dWD4UwnG"
      },
      "source": [
        "## Count the number of elements along a given axis"
      ]
    },
    {
      "cell_type": "code",
      "execution_count": 24,
      "metadata": {
        "colab": {
          "base_uri": "https://localhost:8080/"
        },
        "id": "2F8XbhdrU1mQ",
        "outputId": "10bfb8b6-c87b-456f-a6e8-e9a3b87c9bdc"
      },
      "outputs": [
        {
          "name": "stdout",
          "output_type": "stream",
          "text": [
            "Array: \n",
            " [[ 1  2  3  4]\n",
            " [ 5  6  7  8]\n",
            " [ 9 10 11 12]]\n",
            "\n",
            "Quantidade de elementos da linha 2:  4\n"
          ]
        }
      ],
      "source": [
        "array = np.array([[1, 2, 3, 4], [5, 6, 7, 8], [9, 10, 11, 12]])\n",
        "print(\"Array: \\n\", array)\n",
        "print(\"\\nQuantidade de elementos da linha 2: \", np.size(array[2]))"
      ]
    },
    {
      "cell_type": "markdown",
      "metadata": {
        "id": "OO52Xp3bYNiH"
      },
      "source": [
        "## Trim the leading and/or trailing zeros from a 1-D array\n"
      ]
    },
    {
      "cell_type": "code",
      "execution_count": 25,
      "metadata": {
        "colab": {
          "base_uri": "https://localhost:8080/"
        },
        "id": "fl5PHJ-gYO3J",
        "outputId": "f954ba9e-cf0f-4002-8189-ba5577ddb069"
      },
      "outputs": [
        {
          "name": "stdout",
          "output_type": "stream",
          "text": [
            "Array inicial: \n",
            " [0 0 0 0 1 1 1 1 1 1 1 1 0 0 0 0]\n",
            "\n",
            "Array trim: \n",
            " [1 1 1 1 1 1 1 1]\n"
          ]
        }
      ],
      "source": [
        "array = np.array([0, 0, 0, 0, 1, 1, 1, 1, 1, 1, 1, 1, 0, 0, 0, 0])\n",
        "print(\"Array inicial: \\n\", array)\n",
        "print(\"\\nArray trim: \\n\", np.trim_zeros(array))"
      ]
    },
    {
      "cell_type": "markdown",
      "metadata": {
        "id": "9LSYbXFjY6TP"
      },
      "source": [
        "## Change data type of given numpy array"
      ]
    },
    {
      "cell_type": "code",
      "execution_count": 26,
      "metadata": {
        "colab": {
          "base_uri": "https://localhost:8080/"
        },
        "id": "mjAjxUl1Y7d4",
        "outputId": "4fcde0e7-1f43-4cf5-df31-23af726c5aa1"
      },
      "outputs": [
        {
          "name": "stdout",
          "output_type": "stream",
          "text": [
            "tipo inicial:  int32\n",
            "[ 0.  1.  2.  3.  4.  5.  6.  7.  8.  9. 10.]\n",
            "\n",
            "tipo final:  float64\n"
          ]
        }
      ],
      "source": [
        "array = np.arange(0, 11)\n",
        "print(\"tipo inicial: \", array.dtype)\n",
        "array = array.astype('float64')\n",
        "print(array)\n",
        "print(\"\\ntipo final: \", array.dtype)"
      ]
    },
    {
      "cell_type": "markdown",
      "metadata": {
        "id": "WWi4sLpZZ1hC"
      },
      "source": [
        "## Reverse a numpy array"
      ]
    },
    {
      "cell_type": "code",
      "execution_count": 27,
      "metadata": {
        "colab": {
          "base_uri": "https://localhost:8080/"
        },
        "id": "jtcUhe8yZ3-P",
        "outputId": "6931e5c8-5700-47b8-84fc-0fe43ee7cb12"
      },
      "outputs": [
        {
          "name": "stdout",
          "output_type": "stream",
          "text": [
            "array inicial:  [1 2 3 4 5 6]\n",
            "\n",
            "array reverse:  [6 5 4 3 2 1]\n"
          ]
        }
      ],
      "source": [
        "array = np.array([1,2,3,4,5,6])\n",
        "print(\"array inicial: \", array)\n",
        "print(\"\\narray reverse: \", np.flip(array))"
      ]
    },
    {
      "cell_type": "markdown",
      "metadata": {
        "id": "TGIDU6UOaba6"
      },
      "source": [
        "## How to make a NumPy array read-only?"
      ]
    },
    {
      "cell_type": "code",
      "execution_count": 28,
      "metadata": {
        "id": "hofJXSZ0aeCX"
      },
      "outputs": [],
      "source": [
        "array = np.array([1, 2, 3, 4, 5, 6, 7, 8, 9, 10])\n",
        "array[1] = 988\n",
        "array.flags.writeable = False"
      ]
    },
    {
      "cell_type": "markdown",
      "metadata": {
        "id": "3di262PRbKNf"
      },
      "source": [
        "# Questions on NumPy Matrix"
      ]
    },
    {
      "cell_type": "markdown",
      "metadata": {
        "id": "oNbA59vawdDZ"
      },
      "source": [
        "## Get the maximum value from given matrix"
      ]
    },
    {
      "cell_type": "code",
      "execution_count": 29,
      "metadata": {
        "colab": {
          "base_uri": "https://localhost:8080/"
        },
        "id": "03tZ3wbMbOdo",
        "outputId": "be99e6e2-18f5-4a77-cce8-7441ee800ddb"
      },
      "outputs": [
        {
          "name": "stdout",
          "output_type": "stream",
          "text": [
            "Matrix: \n",
            " [[6 6 2]\n",
            " [8 8 1]\n",
            " [4 9 6]]\n",
            "\n",
            "Valor máximo da matriz:  9\n"
          ]
        }
      ],
      "source": [
        "matrix = np.random.randint(10,size=(3,3))\n",
        "print(\"Matrix: \\n\", matrix)\n",
        "print(\"\\nValor máximo da matriz: \", matrix.max())"
      ]
    },
    {
      "cell_type": "markdown",
      "metadata": {
        "id": "lG6hvdnXxk6A"
      },
      "source": [
        "## Get the minimum value from given matrix"
      ]
    },
    {
      "cell_type": "code",
      "execution_count": 30,
      "metadata": {
        "colab": {
          "base_uri": "https://localhost:8080/"
        },
        "id": "2kL7-f-oxoG3",
        "outputId": "bb1f43f7-9705-4f40-c784-c63c23c9a1fb"
      },
      "outputs": [
        {
          "name": "stdout",
          "output_type": "stream",
          "text": [
            "Matrix: \n",
            " [[7 5 9]\n",
            " [1 7 5]\n",
            " [2 7 7]]\n",
            "\n",
            "Valor mínimo da matriz:  1\n"
          ]
        }
      ],
      "source": [
        "matrix = np.random.randint(10,size=(3,3))\n",
        "print(\"Matrix: \\n\", matrix)\n",
        "print(\"\\nValor mínimo da matriz: \", matrix.min())"
      ]
    },
    {
      "cell_type": "markdown",
      "metadata": {
        "id": "nJsBDSSeyMfh"
      },
      "source": [
        "## Find the number of rows and columns of a given matrix using NumPy"
      ]
    },
    {
      "cell_type": "code",
      "execution_count": 31,
      "metadata": {
        "colab": {
          "base_uri": "https://localhost:8080/"
        },
        "id": "ozNXOCPxyPgH",
        "outputId": "3c779d35-06ee-4bbe-d83a-faaf0a46da8f"
      },
      "outputs": [
        {
          "name": "stdout",
          "output_type": "stream",
          "text": [
            "matriz de exemplo: \n",
            " [[1 2]\n",
            " [3 4]\n",
            " [5 6]]\n",
            "\n",
            "Numero de linhas e colunas respectivamente:  (3, 2)\n"
          ]
        }
      ],
      "source": [
        "matrix = np.matrix([[1,2],[3,4],[5,6]])\n",
        "print(\"matriz de exemplo: \\n\", matrix)\n",
        "print(\"\\nNumero de linhas e colunas respectivamente: \", matrix.shape)"
      ]
    },
    {
      "cell_type": "markdown",
      "metadata": {
        "id": "JHfDdGemzJ4_"
      },
      "source": [
        "## Select the elements from a given matrix"
      ]
    },
    {
      "cell_type": "code",
      "execution_count": 32,
      "metadata": {
        "colab": {
          "base_uri": "https://localhost:8080/"
        },
        "id": "f0h4WeH2zM7Z",
        "outputId": "91b3fd3e-f1f2-4cc3-ae5c-622c42c99c25"
      },
      "outputs": [
        {
          "name": "stdout",
          "output_type": "stream",
          "text": [
            "matriz de exemplo: \n",
            " [[1 2]\n",
            " [3 4]\n",
            " [5 6]]\n",
            "\n",
            "Acessando a posição linha 1 coluna 1:  4\n"
          ]
        }
      ],
      "source": [
        "matrix = np.matrix([[1,2],[3,4],[5,6]])\n",
        "print(\"matriz de exemplo: \\n\", matrix)\n",
        "print(\"\\nAcessando a posição linha 1 coluna 1: \", matrix[1,1])"
      ]
    },
    {
      "cell_type": "markdown",
      "metadata": {
        "id": "dJT28I3J1-M2"
      },
      "source": [
        "## Find the sum of values in a matrix"
      ]
    },
    {
      "cell_type": "code",
      "execution_count": 33,
      "metadata": {
        "colab": {
          "base_uri": "https://localhost:8080/"
        },
        "id": "WdBLvWAI1_Tc",
        "outputId": "3d793e32-7cda-4614-e98d-65aacc6ff81f"
      },
      "outputs": [
        {
          "name": "stdout",
          "output_type": "stream",
          "text": [
            "matriz de exemplo: \n",
            " [[1 2]\n",
            " [3 4]\n",
            " [5 6]]\n",
            "\n",
            "Soma dos valores da matriz:  21\n"
          ]
        }
      ],
      "source": [
        "matrix = np.matrix([[1,2],[3,4],[5,6]])\n",
        "print(\"matriz de exemplo: \\n\", matrix)\n",
        "print(\"\\nSoma dos valores da matriz: \", np.sum(matrix))"
      ]
    },
    {
      "cell_type": "markdown",
      "metadata": {
        "id": "6EbVYShq2yd7"
      },
      "source": [
        "## Calculate the sum of the diagonal elements of a NumPy array"
      ]
    },
    {
      "cell_type": "code",
      "execution_count": 34,
      "metadata": {
        "colab": {
          "base_uri": "https://localhost:8080/"
        },
        "id": "UihG9G9a23qd",
        "outputId": "3d9d0ffa-11e4-4f4f-e2a5-3e68ad12b76d"
      },
      "outputs": [
        {
          "name": "stdout",
          "output_type": "stream",
          "text": [
            "matriz de exemplo: \n",
            " [[1 2 3]\n",
            " [4 5 6]\n",
            " [7 8 9]]\n",
            "\n",
            "Soma dos valores da diagonal da matriz:  15\n"
          ]
        }
      ],
      "source": [
        "matrix = np.matrix([[1,2,3],[4,5,6],[7,8,9]])\n",
        "print(\"matriz de exemplo: \\n\", matrix)\n",
        "print(\"\\nSoma dos valores da diagonal da matriz: \", np.trace(matrix))"
      ]
    },
    {
      "cell_type": "markdown",
      "metadata": {
        "id": "rjryfBQ83g4q"
      },
      "source": [
        "## Adding and Subtracting Matrices in Python"
      ]
    },
    {
      "cell_type": "code",
      "execution_count": 35,
      "metadata": {
        "colab": {
          "base_uri": "https://localhost:8080/"
        },
        "id": "4Jyciwld3u53",
        "outputId": "cda76ad8-ecd6-468e-b46a-a18dbec648aa"
      },
      "outputs": [
        {
          "name": "stdout",
          "output_type": "stream",
          "text": [
            "matriz1 de exemplo: \n",
            " [[1 2 3]\n",
            " [4 5 6]\n",
            " [7 8 9]]\n",
            "\n",
            "matriz2 de exemplo: \n",
            " [[10 11 12]\n",
            " [13 14 15]\n",
            " [16 17 18]]\n",
            "\n",
            "Soma de matrizes -> matriz1 + matriz2:\n",
            "[[11 13 15]\n",
            " [17 19 21]\n",
            " [23 25 27]]\n",
            "\n",
            "Subtração de matrizes -> matriz2 - matriz1:\n",
            "[[9 9 9]\n",
            " [9 9 9]\n",
            " [9 9 9]]\n"
          ]
        }
      ],
      "source": [
        "matrix1 = np.matrix([[1,2,3],[4,5,6],[7,8,9]])\n",
        "matrix2 = np.matrix([[10,11,12],[13,14,15],[16,17,18]])\n",
        "print(\"matriz1 de exemplo: \\n\", matrix1)\n",
        "print(\"\\nmatriz2 de exemplo: \\n\", matrix2)\n",
        "\n",
        "print(\"\\nSoma de matrizes -> matriz1 + matriz2:\")\n",
        "print(np.add(matrix1, matrix2))\n",
        "\n",
        "print(\"\\nSubtração de matrizes -> matriz2 - matriz1:\")\n",
        "print(np.subtract(matrix2, matrix1))"
      ]
    },
    {
      "cell_type": "markdown",
      "metadata": {
        "id": "6lGutd5P6JA_"
      },
      "source": [
        "## Ways to add row/columns in numpy array"
      ]
    },
    {
      "cell_type": "code",
      "execution_count": 36,
      "metadata": {
        "colab": {
          "base_uri": "https://localhost:8080/"
        },
        "id": "WYfbu5xc6UqX",
        "outputId": "3a1a4495-090c-4358-bc14-2146da5bf602"
      },
      "outputs": [
        {
          "name": "stdout",
          "output_type": "stream",
          "text": [
            "matriz de inicial de exemplo: \n",
            " [[1 2 3]\n",
            " [4 5 6]\n",
            " [7 8 9]]\n",
            "\n",
            "Elemento a ser adicionado: \n",
            " [[0 0 0]]\n",
            "\n",
            "Adicionando em linha: \n",
            " [[1 2 3]\n",
            " [4 5 6]\n",
            " [7 8 9]\n",
            " [0 0 0]]\n",
            "\n",
            "Adicionando em coluna: \n",
            " [[1 2 3 0]\n",
            " [4 5 6 0]\n",
            " [7 8 9 0]]\n"
          ]
        }
      ],
      "source": [
        "matrix = np.matrix([[1,2,3],[4,5,6],[7,8,9]])\n",
        "print(\"matriz de inicial de exemplo: \\n\", matrix)\n",
        "\n",
        "elemento = np.array([[0, 0, 0]])\n",
        "print(\"\\nElemento a ser adicionado: \\n\", elemento)\n",
        "\n",
        "print(\"\\nAdicionando em linha: \\n\", np.vstack((matrix, elemento)))\n",
        "print(\"\\nAdicionando em coluna: \\n\", np.hstack((matrix, elemento.T)))"
      ]
    },
    {
      "cell_type": "markdown",
      "metadata": {
        "id": "uRIlJ5E89zuU"
      },
      "source": [
        "## Matrix Multiplication in NumPy"
      ]
    },
    {
      "cell_type": "code",
      "execution_count": 37,
      "metadata": {
        "colab": {
          "base_uri": "https://localhost:8080/"
        },
        "id": "T5t38q7Y9489",
        "outputId": "4714bfb7-2ce1-4fbc-c730-c681b39610df"
      },
      "outputs": [
        {
          "name": "stdout",
          "output_type": "stream",
          "text": [
            "matriz1 de exemplo: \n",
            " [[1 2 3]\n",
            " [4 5 6]\n",
            " [7 8 9]]\n",
            "\n",
            "matriz2 de exemplo: \n",
            " [[3 3 3]\n",
            " [3 3 3]\n",
            " [3 3 3]]\n",
            "\n",
            "Multiplicação das matrizes matriz1 * matriz2: \n",
            " [[18 18 18]\n",
            " [45 45 45]\n",
            " [72 72 72]]\n"
          ]
        }
      ],
      "source": [
        "matrix1 = np.matrix([[1,2,3],[4,5,6],[7,8,9]])\n",
        "matrix2 = np.matrix([[3,3,3],[3,3,3],[3,3,3]])\n",
        "print(\"matriz1 de exemplo: \\n\", matrix1)\n",
        "print(\"\\nmatriz2 de exemplo: \\n\", matrix2)\n",
        "\n",
        "print(\"\\nMultiplicação das matrizes matriz1 * matriz2: \\n\", np.dot(matrix1, matrix2))"
      ]
    },
    {
      "cell_type": "markdown",
      "metadata": {
        "id": "ZMa3zXnY_OC6"
      },
      "source": [
        "## Get the eigen values of a matrix"
      ]
    },
    {
      "cell_type": "code",
      "execution_count": 38,
      "metadata": {
        "colab": {
          "base_uri": "https://localhost:8080/"
        },
        "id": "GDJeqRoM_ZyE",
        "outputId": "e131b3ca-49c6-4878-a233-c8f35ac99db7"
      },
      "outputs": [
        {
          "name": "stdout",
          "output_type": "stream",
          "text": [
            "matriz de exemplo: \n",
            " [[1 2 3]\n",
            " [4 5 6]\n",
            " [7 8 9]]\n",
            "\n",
            "Resultado: \n",
            " (array([ 1.61168440e+01, -1.11684397e+00, -1.30367773e-15]), matrix([[-0.23197069, -0.78583024,  0.40824829],\n",
            "        [-0.52532209, -0.08675134, -0.81649658],\n",
            "        [-0.8186735 ,  0.61232756,  0.40824829]]))\n"
          ]
        }
      ],
      "source": [
        "matrix = np.matrix([[1,2,3],[4,5,6],[7,8,9]])\n",
        "print(\"matriz de exemplo: \\n\", matrix)\n",
        "print(\"\\nResultado: \\n\", np.linalg.eig(matrix))"
      ]
    },
    {
      "cell_type": "markdown",
      "metadata": {
        "id": "NFQsfyhfAb3p"
      },
      "source": [
        "## How to Calculate the determinant of a matrix using NumPy?"
      ]
    },
    {
      "cell_type": "code",
      "execution_count": 39,
      "metadata": {
        "colab": {
          "base_uri": "https://localhost:8080/"
        },
        "id": "Q28mdzx2AeVy",
        "outputId": "34cf41e8-7bd4-4da9-faed-1a67547c0f5c"
      },
      "outputs": [
        {
          "name": "stdout",
          "output_type": "stream",
          "text": [
            "matriz de exemplo: \n",
            " [[1 0 5]\n",
            " [4 3 2]\n",
            " [1 1 1]]\n",
            "\n",
            "Determinante: \n",
            " 6.0\n"
          ]
        }
      ],
      "source": [
        "matrix = np.matrix([[1,0,5],[4,3,2],[1,1,1]])\n",
        "print(\"matriz de exemplo: \\n\", matrix)\n",
        "print(\"\\nDeterminante: \\n\", np.linalg.det(matrix))"
      ]
    },
    {
      "cell_type": "markdown",
      "metadata": {
        "id": "DxnaiRZWBTsh"
      },
      "source": [
        "## How to inverse a matrix using NumPy"
      ]
    },
    {
      "cell_type": "code",
      "execution_count": 40,
      "metadata": {
        "colab": {
          "base_uri": "https://localhost:8080/"
        },
        "id": "8MegkpSOBWSx",
        "outputId": "45565aab-9b09-43a6-a6f0-b721f3091b30"
      },
      "outputs": [
        {
          "name": "stdout",
          "output_type": "stream",
          "text": [
            "matriz de exemplo: \n",
            " [[1 0 5]\n",
            " [4 3 2]\n",
            " [1 1 1]]\n",
            "\n",
            "Inverse: \n",
            " [[ 0.16666667  0.83333333 -2.5       ]\n",
            " [-0.33333333 -0.66666667  3.        ]\n",
            " [ 0.16666667 -0.16666667  0.5       ]]\n"
          ]
        }
      ],
      "source": [
        "matrix = np.matrix([[1,0,5],[4,3,2],[1,1,1]])\n",
        "print(\"matriz de exemplo: \\n\", matrix)\n",
        "print(\"\\nInverse: \\n\", np.linalg.inv(matrix))"
      ]
    },
    {
      "cell_type": "markdown",
      "metadata": {
        "id": "64UXB1ZODvSm"
      },
      "source": [
        "## How to count the frequency of unique values in NumPy array?"
      ]
    },
    {
      "cell_type": "code",
      "execution_count": 41,
      "metadata": {
        "colab": {
          "base_uri": "https://localhost:8080/"
        },
        "id": "E5lcSV66FXU6",
        "outputId": "25cb26f6-66d9-463d-f2df-702f2a231e56"
      },
      "outputs": [
        {
          "name": "stdout",
          "output_type": "stream",
          "text": [
            "matriz de exemplo: \n",
            " [[1 0 5]\n",
            " [4 3 2]\n",
            " [1 2 1]]\n",
            "\n",
            "Frequencia: as posições do array (0, 1, 2, 3, 4, 5) indicam a quantidades de elementos valor/posição\n",
            " [1 3 2 1 1 1]\n"
          ]
        }
      ],
      "source": [
        "matrix = np.matrix([[1,0,5],[4,3,2],[1,2,1]])\n",
        "print(\"matriz de exemplo: \\n\", matrix)\n",
        "\n",
        "print(\"\\nFrequencia: as posições do array (0, 1, 2, 3, 4, 5) indicam a quantidades de elementos valor/posição\\n\", np.bincount(np.ravel(matrix)))"
      ]
    },
    {
      "cell_type": "markdown",
      "metadata": {
        "id": "f9m4lf5tHxeE"
      },
      "source": [
        "## Multiply matrices of complex numbers using NumPy in Python"
      ]
    },
    {
      "cell_type": "code",
      "execution_count": 42,
      "metadata": {
        "colab": {
          "base_uri": "https://localhost:8080/"
        },
        "id": "rzazBlFjH0H1",
        "outputId": "14fbd18b-4c23-4d1a-c40d-d07f9d30d67b"
      },
      "outputs": [
        {
          "name": "stdout",
          "output_type": "stream",
          "text": [
            "matriz1 de exemplo: \n",
            " [[1 2 3]\n",
            " [4 5 6]\n",
            " [7 8 9]]\n",
            "\n",
            "matriz2 de exemplo: \n",
            " [[10 11 12]\n",
            " [13 14 15]\n",
            " [16 17 18]]\n",
            "\n",
            "Multiplicação das matrizes matriz1 * matriz2: \n",
            " [[ 84.+0.j  90.+0.j  96.+0.j]\n",
            " [201.+0.j 216.+0.j 231.+0.j]\n",
            " [318.+0.j 342.+0.j 366.+0.j]]\n"
          ]
        }
      ],
      "source": [
        "matrix1 = np.matrix([[1,2,3],[4,5,6],[7,8,9]])\n",
        "print(\"matriz1 de exemplo: \\n\", matrix1)\n",
        "matrix2 = np.matrix([[10,11,12],[13,14,15],[16,17,18]])\n",
        "print(\"\\nmatriz2 de exemplo: \\n\", matrix2)\n",
        "matrix1 = matrix1.astype(np.complex128)\n",
        "matrix2 = matrix2.astype(np.complex128)\n",
        "\n",
        "print(\"\\nMultiplicação das matrizes matriz1 * matriz2: \\n\", np.dot(matrix1, matrix2))"
      ]
    },
    {
      "cell_type": "markdown",
      "metadata": {
        "id": "IW3WwzVSJUQs"
      },
      "source": [
        "## Compute the outer product of two given vectors using NumPy in Python"
      ]
    },
    {
      "cell_type": "code",
      "execution_count": 43,
      "metadata": {
        "colab": {
          "base_uri": "https://localhost:8080/"
        },
        "id": "z_t6O1AFJY6-",
        "outputId": "3cd2797a-0dc1-484e-936d-7e19b8b4224b"
      },
      "outputs": [
        {
          "name": "stdout",
          "output_type": "stream",
          "text": [
            "matriz1 de exemplo: \n",
            " [[1 2 3]\n",
            " [4 5 6]\n",
            " [7 8 9]]\n",
            "\n",
            "matriz2 de exemplo: \n",
            " [[10 11 12]\n",
            " [13 14 15]\n",
            " [16 17 18]]\n",
            "\n",
            "Resultado: \n",
            " [[ 10  11  12  13  14  15  16  17  18]\n",
            " [ 20  22  24  26  28  30  32  34  36]\n",
            " [ 30  33  36  39  42  45  48  51  54]\n",
            " [ 40  44  48  52  56  60  64  68  72]\n",
            " [ 50  55  60  65  70  75  80  85  90]\n",
            " [ 60  66  72  78  84  90  96 102 108]\n",
            " [ 70  77  84  91  98 105 112 119 126]\n",
            " [ 80  88  96 104 112 120 128 136 144]\n",
            " [ 90  99 108 117 126 135 144 153 162]]\n"
          ]
        }
      ],
      "source": [
        "matrix1 = np.matrix([[1,2,3],[4,5,6],[7,8,9]])\n",
        "print(\"matriz1 de exemplo: \\n\", matrix1)\n",
        "matrix2 = np.matrix([[10,11,12],[13,14,15],[16,17,18]])\n",
        "print(\"\\nmatriz2 de exemplo: \\n\", matrix2)\n",
        "print(\"\\nResultado: \\n\", np.outer(matrix1, matrix2))"
      ]
    },
    {
      "cell_type": "markdown",
      "metadata": {
        "id": "BxPobINSKHW7"
      },
      "source": [
        "## Calculate inner, outer, and cross products of matrices and vectors using NumPy"
      ]
    },
    {
      "cell_type": "code",
      "execution_count": 44,
      "metadata": {
        "colab": {
          "base_uri": "https://localhost:8080/"
        },
        "id": "vAN2sZXDKKBz",
        "outputId": "54add8ac-dfbe-4c09-b971-1200e99a8d2d"
      },
      "outputs": [
        {
          "name": "stdout",
          "output_type": "stream",
          "text": [
            "DADOS:\n",
            "\n",
            "matriz1 de exemplo: \n",
            " [[1 2 3]\n",
            " [4 5 6]\n",
            " [7 8 9]]\n",
            "\n",
            "matriz2 de exemplo: \n",
            " [[10 11 12]\n",
            " [13 14 15]\n",
            " [16 17 18]]\n",
            "\n",
            "array1 de exemplo: \n",
            " [[1 2 3]\n",
            " [4 5 6]]\n",
            "\n",
            "array2 de exemplo: \n",
            " [[ 7  8  9]\n",
            " [10 11 12]]\n",
            "-----------------------------------\n",
            "Resultados:\n",
            "\n",
            "Inner:\n",
            "\n",
            "Inner product of arrays, array1 and array2\n",
            " [[ 50  68]\n",
            " [122 167]]\n",
            "\n",
            "Inner product of matrices, matrix1 and matrix2\n",
            " [[ 68  86 104]\n",
            " [167 212 257]\n",
            " [266 338 410]]\n",
            "\n",
            "Outer:\n",
            "\n",
            "Outer product of arrays, array1 and array2\n",
            " [[ 7  8  9 10 11 12]\n",
            " [14 16 18 20 22 24]\n",
            " [21 24 27 30 33 36]\n",
            " [28 32 36 40 44 48]\n",
            " [35 40 45 50 55 60]\n",
            " [42 48 54 60 66 72]]\n",
            "\n",
            "Outer product of matrices, matrix1 and matrix2\n",
            " [[ 10  11  12  13  14  15  16  17  18]\n",
            " [ 20  22  24  26  28  30  32  34  36]\n",
            " [ 30  33  36  39  42  45  48  51  54]\n",
            " [ 40  44  48  52  56  60  64  68  72]\n",
            " [ 50  55  60  65  70  75  80  85  90]\n",
            " [ 60  66  72  78  84  90  96 102 108]\n",
            " [ 70  77  84  91  98 105 112 119 126]\n",
            " [ 80  88  96 104 112 120 128 136 144]\n",
            " [ 90  99 108 117 126 135 144 153 162]]\n",
            "\n",
            "Cross:\n",
            "\n",
            "Cross product of arrays, array1 and array2\n",
            " [[-6 12 -6]\n",
            " [-6 12 -6]]\n",
            "\n",
            "Cross product of matrices, matrix1 and matrix2\n",
            " [[-9 18 -9]\n",
            " [-9 18 -9]\n",
            " [-9 18 -9]]\n"
          ]
        }
      ],
      "source": [
        "print(\"DADOS:\\n\")\n",
        "matrix1 = np.matrix([[1,2,3],[4,5,6],[7,8,9]])\n",
        "print(\"matriz1 de exemplo: \\n\", matrix1)\n",
        "matrix2 = np.matrix([[10,11,12],[13,14,15],[16,17,18]])\n",
        "print(\"\\nmatriz2 de exemplo: \\n\", matrix2)\n",
        "\n",
        "array1 = np.array([[1,2,3],[4,5,6]])\n",
        "print(\"\\narray1 de exemplo: \\n\", array1)\n",
        "array2 = np.array([[7,8,9],[10,11,12]])\n",
        "print(\"\\narray2 de exemplo: \\n\", array2)\n",
        "print(\"-----------------------------------\\nResultados:\\n\")\n",
        "\n",
        "print(\"Inner:\\n\")\n",
        "print(\"Inner product of arrays, array1 and array2\\n\", np.inner(array1,array2))\n",
        "print(\"\\nInner product of matrices, matrix1 and matrix2\\n\", np.inner(matrix1,matrix2))\n",
        "print(\"\\nOuter:\\n\")\n",
        "print(\"Outer product of arrays, array1 and array2\\n\", np.outer(array1,array2))\n",
        "print(\"\\nOuter product of matrices, matrix1 and matrix2\\n\", np.outer(matrix1,matrix2))\n",
        "print(\"\\nCross:\\n\")\n",
        "print(\"Cross product of arrays, array1 and array2\\n\", np.cross(array1,array2))\n",
        "print(\"\\nCross product of matrices, matrix1 and matrix2\\n\", np.cross(matrix1,matrix2))"
      ]
    },
    {
      "cell_type": "markdown",
      "metadata": {
        "id": "jvxCiDALN7bI"
      },
      "source": [
        "## Compute the covariance matrix of two given NumPy arrays"
      ]
    },
    {
      "cell_type": "code",
      "execution_count": 45,
      "metadata": {
        "colab": {
          "base_uri": "https://localhost:8080/"
        },
        "id": "okWnh374N_BV",
        "outputId": "4eaee905-bd47-4939-92ac-42bdf83e38b3"
      },
      "outputs": [
        {
          "name": "stdout",
          "output_type": "stream",
          "text": [
            "matriz1 de exemplo: \n",
            " [[1 2 3]\n",
            " [4 5 6]\n",
            " [7 8 9]]\n",
            "\n",
            "matriz2 de exemplo: \n",
            " [[10 11 12]\n",
            " [13 14 15]\n",
            " [16 17 18]]\n",
            "\n",
            "Matriz de covariancia: \n",
            " [[1. 1. 1. 1. 1. 1.]\n",
            " [1. 1. 1. 1. 1. 1.]\n",
            " [1. 1. 1. 1. 1. 1.]\n",
            " [1. 1. 1. 1. 1. 1.]\n",
            " [1. 1. 1. 1. 1. 1.]\n",
            " [1. 1. 1. 1. 1. 1.]]\n"
          ]
        }
      ],
      "source": [
        "matrix1 = np.array([[1,2,3],[4,5,6],[7,8,9]])\n",
        "print(\"matriz1 de exemplo: \\n\", matrix1)\n",
        "matrix2 = np.array([[10,11,12],[13,14,15],[16,17,18]])\n",
        "print(\"\\nmatriz2 de exemplo: \\n\", matrix2)\n",
        "cov = np.cov(matrix1, matrix2)\n",
        "print(\"\\nMatriz de covariancia: \\n\", cov)"
      ]
    },
    {
      "cell_type": "markdown",
      "metadata": {
        "id": "bw1YOZawPO5c"
      },
      "source": [
        "## Convert covariance matrix to correlation matrix using Python"
      ]
    },
    {
      "cell_type": "code",
      "execution_count": 46,
      "metadata": {
        "colab": {
          "base_uri": "https://localhost:8080/"
        },
        "id": "FkfjTTd9PRh9",
        "outputId": "25f673c0-a651-4b06-8359-4772e8613256"
      },
      "outputs": [
        {
          "name": "stdout",
          "output_type": "stream",
          "text": [
            "Resultado usando dados da questão anterior: \n",
            " [[nan nan nan nan nan nan]\n",
            " [nan nan nan nan nan nan]\n",
            " [nan nan nan nan nan nan]\n",
            " [nan nan nan nan nan nan]\n",
            " [nan nan nan nan nan nan]\n",
            " [nan nan nan nan nan nan]]\n"
          ]
        },
        {
          "name": "stderr",
          "output_type": "stream",
          "text": [
            "c:\\Users\\darly\\AppData\\Local\\Programs\\Python\\Python311\\Lib\\site-packages\\numpy\\lib\\function_base.py:2854: RuntimeWarning: invalid value encountered in divide\n",
            "  c /= stddev[:, None]\n"
          ]
        }
      ],
      "source": [
        "print(\"Resultado usando dados da questão anterior: \\n\", np.corrcoef(cov))"
      ]
    },
    {
      "cell_type": "markdown",
      "metadata": {
        "id": "9hc43D45P98T"
      },
      "source": [
        "## Compute the Kronecker product of two mulitdimension NumPy arrays"
      ]
    },
    {
      "cell_type": "code",
      "execution_count": 47,
      "metadata": {
        "colab": {
          "base_uri": "https://localhost:8080/"
        },
        "id": "tbwRzgioP_qY",
        "outputId": "b7ce491a-01df-4c45-9e7b-dc8e2cf01c59"
      },
      "outputs": [
        {
          "name": "stdout",
          "output_type": "stream",
          "text": [
            "matriz1 de exemplo: \n",
            " [[1 2 3]\n",
            " [4 5 6]\n",
            " [7 8 9]]\n",
            "\n",
            "matriz2 de exemplo: \n",
            " [[10 11 12]\n",
            " [13 14 15]\n",
            " [16 17 18]]\n",
            "\n",
            "Resultado: \n",
            " [[ 10  11  12  20  22  24  30  33  36]\n",
            " [ 13  14  15  26  28  30  39  42  45]\n",
            " [ 16  17  18  32  34  36  48  51  54]\n",
            " [ 40  44  48  50  55  60  60  66  72]\n",
            " [ 52  56  60  65  70  75  78  84  90]\n",
            " [ 64  68  72  80  85  90  96 102 108]\n",
            " [ 70  77  84  80  88  96  90  99 108]\n",
            " [ 91  98 105 104 112 120 117 126 135]\n",
            " [112 119 126 128 136 144 144 153 162]]\n"
          ]
        }
      ],
      "source": [
        "matrix1 = np.matrix([[1,2,3],[4,5,6],[7,8,9]])\n",
        "print(\"matriz1 de exemplo: \\n\", matrix1)\n",
        "matrix2 = np.matrix([[10,11,12],[13,14,15],[16,17,18]])\n",
        "print(\"\\nmatriz2 de exemplo: \\n\", matrix2)\n",
        "print(\"\\nResultado: \\n\", np.kron(matrix1,matrix2))"
      ]
    },
    {
      "cell_type": "markdown",
      "metadata": {
        "id": "OZPSPltBR1Ui"
      },
      "source": [
        "## Convert the matrix into a list"
      ]
    },
    {
      "cell_type": "code",
      "execution_count": 48,
      "metadata": {
        "colab": {
          "base_uri": "https://localhost:8080/"
        },
        "id": "IGKbcc6CSCc6",
        "outputId": "25f84fda-ed90-46bf-b04d-c294288666ed"
      },
      "outputs": [
        {
          "name": "stdout",
          "output_type": "stream",
          "text": [
            "matriz de exemplo: \n",
            " [[1 2 3]\n",
            " [4 5 6]\n",
            " [7 8 9]]\n",
            "\n",
            "Após conversão em lista: \n",
            " [[1, 2, 3], [4, 5, 6], [7, 8, 9]]\n"
          ]
        }
      ],
      "source": [
        "matrix = np.matrix([[1,2,3],[4,5,6],[7,8,9]])\n",
        "print(\"matriz de exemplo: \\n\", matrix)\n",
        "print(\"\\nApós conversão em lista: \\n\", matrix.tolist())"
      ]
    },
    {
      "cell_type": "markdown",
      "metadata": {
        "id": "3YLi8g6sSlH0"
      },
      "source": [
        "# Questions on NumPy Indexing"
      ]
    },
    {
      "cell_type": "markdown",
      "metadata": {
        "id": "AWhr4MoQ8EmB"
      },
      "source": [
        "## Replace NumPy array elements that doesn’t satisfy the given condition"
      ]
    },
    {
      "cell_type": "code",
      "execution_count": 49,
      "metadata": {
        "colab": {
          "base_uri": "https://localhost:8080/"
        },
        "id": "1AL78TaI8GiO",
        "outputId": "688138c5-d7d7-4c36-e682-6d23a13d29c8"
      },
      "outputs": [
        {
          "name": "stdout",
          "output_type": "stream",
          "text": [
            "array de exemplo: \n",
            " [ 1 24 83 33 26 65 51  4  9 75]\n",
            "\n",
            "Após substituição dos elementos, dadas as condições: \n",
            " [ 1  1 10  1  1 10 10  1  1 10]\n"
          ]
        }
      ],
      "source": [
        "array = np.array([1, 24, 83, 33, 26, 65, 51, 4, 9, 75])\n",
        "print(\"array de exemplo: \\n\", array)\n",
        "array[array<40] = 1\n",
        "array[array>40]= 10\n",
        "print(\"\\nApós substituição dos elementos, dadas as condições: \\n\", array)"
      ]
    },
    {
      "cell_type": "markdown",
      "metadata": {
        "id": "guXnGMAu_B28"
      },
      "source": [
        "## Return the indices of elements where the given condition is satisfied"
      ]
    },
    {
      "cell_type": "code",
      "execution_count": 50,
      "metadata": {
        "colab": {
          "base_uri": "https://localhost:8080/"
        },
        "id": "LXsl5P1JAmyn",
        "outputId": "9219f80a-d8a4-4a94-bac4-69f39cea6d56"
      },
      "outputs": [
        {
          "name": "stdout",
          "output_type": "stream",
          "text": [
            "array de exemplo: \n",
            " [ 1 24 83 33 26 65 51  4  9 75]\n",
            "\n",
            "Indices das posições maiores que 40: \n",
            " (array([2, 5, 6, 9], dtype=int64),)\n"
          ]
        }
      ],
      "source": [
        "array = np.array([1, 24, 83, 33, 26, 65, 51, 4, 9, 75])\n",
        "print(\"array de exemplo: \\n\", array)\n",
        "print(\"\\nIndices das posições maiores que 40: \\n\", np.where(array > 40))"
      ]
    },
    {
      "cell_type": "markdown",
      "metadata": {
        "id": "pNRWu4uqBUnr"
      },
      "source": [
        "## Replace NaN values with average of columns"
      ]
    },
    {
      "cell_type": "code",
      "execution_count": 51,
      "metadata": {
        "colab": {
          "base_uri": "https://localhost:8080/"
        },
        "id": "AhGnbVyeBiNS",
        "outputId": "68aff5fa-0adf-4b7b-a5b1-2d3d1ef55fc4"
      },
      "outputs": [
        {
          "name": "stdout",
          "output_type": "stream",
          "text": [
            "array de exemplo: \n",
            " [[ 1.  2. nan]\n",
            " [ 2.  3.  5.]\n",
            " [nan  6.  9.]]\n",
            "\n",
            "Após substituir os valores NaN pela média das colunas: \n",
            " [[1.  2.  7. ]\n",
            " [2.  3.  5. ]\n",
            " [1.5 6.  9. ]]\n"
          ]
        }
      ],
      "source": [
        "array = np.array([[1, 2, np.nan], [2, 3, 5], [np.nan, 6, 9]])\n",
        "print(\"array de exemplo: \\n\", array)\n",
        "col_mean = np.nanmean(array,axis=0)\n",
        "inds = np.where(np.isnan(array))\n",
        "array[inds] = np.take(col_mean,inds[1])\n",
        "print(\"\\nApós substituir os valores NaN pela média das colunas: \\n\", array)"
      ]
    },
    {
      "cell_type": "markdown",
      "metadata": {
        "id": "mszomAR6Deaa"
      },
      "source": [
        "## Replace negative value with zero in numpy array"
      ]
    },
    {
      "cell_type": "code",
      "execution_count": 52,
      "metadata": {
        "colab": {
          "base_uri": "https://localhost:8080/"
        },
        "id": "k9vs3h4ADcny",
        "outputId": "da6a66fd-8c54-47d1-f066-0273f9878e0f"
      },
      "outputs": [
        {
          "name": "stdout",
          "output_type": "stream",
          "text": [
            "array de exemplo: \n",
            " [-1  2 -3  4 -5  6 -7  8 -9 10]\n",
            "\n",
            "Após substituir os valores negativos por zero: \n",
            " [ 0  2  0  4  0  6  0  8  0 10]\n"
          ]
        }
      ],
      "source": [
        "array = np.array([-1, 2, -3, 4, -5, 6, -7, 8, -9, 10])\n",
        "print(\"array de exemplo: \\n\", array)\n",
        "array[array<0]=0\n",
        "print(\"\\nApós substituir os valores negativos por zero: \\n\", array)"
      ]
    },
    {
      "cell_type": "markdown",
      "metadata": {
        "id": "aKbSi53sD8oA"
      },
      "source": [
        "## How to get values of an NumPy array at certain index positions?"
      ]
    },
    {
      "cell_type": "code",
      "execution_count": 53,
      "metadata": {
        "colab": {
          "base_uri": "https://localhost:8080/"
        },
        "id": "HcS5cG0QEv9w",
        "outputId": "d71bdbc8-d63d-4ffb-86ae-88d548a88de9"
      },
      "outputs": [
        {
          "name": "stdout",
          "output_type": "stream",
          "text": [
            "array de exemplo: \n",
            " [[1 2 3]\n",
            " [4 5 6]\n",
            " [7 8 9]]\n",
            "\n",
            "Acessando a posição [1,2]: \n",
            " 6\n"
          ]
        }
      ],
      "source": [
        "array = np.array([[1, 2, 3], [4, 5, 6], [7, 8, 9]])\n",
        "print(\"array de exemplo: \\n\", array)\n",
        "print(\"\\nAcessando a posição [1,2]: \\n\", array[1,2])"
      ]
    },
    {
      "cell_type": "markdown",
      "metadata": {
        "id": "Yg-KFJY8GTZw"
      },
      "source": [
        "## Find indices of elements equal to zero in a NumPy array"
      ]
    },
    {
      "cell_type": "code",
      "execution_count": 54,
      "metadata": {
        "colab": {
          "base_uri": "https://localhost:8080/"
        },
        "id": "AMJ_Y5LGGUcI",
        "outputId": "52ca981d-8ecd-4a8c-deaa-04a79f5e034d"
      },
      "outputs": [
        {
          "name": "stdout",
          "output_type": "stream",
          "text": [
            "array de exemplo: \n",
            " [ 0  0  1  8  0  7  0  9 14  0]\n",
            "\n",
            "Encontrando os indices iguais a zero: \n",
            " [0 1 4 6 9]\n"
          ]
        }
      ],
      "source": [
        "array = np.array([0, 0, 1, 8, 0, 7, 0, 9, 14, 0])\n",
        "print(\"array de exemplo: \\n\", array)\n",
        "print(\"\\nEncontrando os indices iguais a zero: \\n\", np.where(array==0)[0])"
      ]
    },
    {
      "cell_type": "markdown",
      "metadata": {
        "id": "hlnl4ZKQHHUl"
      },
      "source": [
        "## How to Remove columns in Numpy array that contains non-numeric values?"
      ]
    },
    {
      "cell_type": "code",
      "execution_count": 55,
      "metadata": {
        "colab": {
          "base_uri": "https://localhost:8080/"
        },
        "id": "d1jcPVrRHJF9",
        "outputId": "f91f5058-44d5-4530-f6ed-1610a822b1b8"
      },
      "outputs": [
        {
          "name": "stdout",
          "output_type": "stream",
          "text": [
            "array de exemplo: \n",
            " [[ 1.  2. nan]\n",
            " [ 2.  3.  5.]\n",
            " [nan  6.  9.]]\n",
            "\n",
            "Removendo colunas com valores nao numericos: \n",
            " [[2.]\n",
            " [3.]\n",
            " [6.]]\n"
          ]
        }
      ],
      "source": [
        "array = np.array([[1, 2, np.nan], [2, 3, 5], [np.nan, 6, 9]])\n",
        "print(\"array de exemplo: \\n\", array)\n",
        "print(\"\\nRemovendo colunas com valores nao numericos: \\n\", array[:, ~np.isnan(array).any(axis=1)])"
      ]
    },
    {
      "cell_type": "markdown",
      "metadata": {
        "id": "vqrNfX99HpwV"
      },
      "source": [
        "## How to access different rows of a multidimensional NumPy array?"
      ]
    },
    {
      "cell_type": "code",
      "execution_count": 56,
      "metadata": {
        "colab": {
          "base_uri": "https://localhost:8080/"
        },
        "id": "nkYMR-uLHu4M",
        "outputId": "eebdd8d4-54f0-455d-ebe5-dc1f1e33e1cd"
      },
      "outputs": [
        {
          "name": "stdout",
          "output_type": "stream",
          "text": [
            "array de exemplo: \n",
            " [[1 2 3]\n",
            " [4 5 6]\n",
            " [7 8 9]]\n",
            "\n",
            "Acessando linhas 1 e 2: \n",
            " [[4 5 6]\n",
            " [7 8 9]]\n"
          ]
        }
      ],
      "source": [
        "array = np.array([[1, 2, 3], [4, 5, 6], [7, 8, 9]])\n",
        "print(\"array de exemplo: \\n\", array)\n",
        "print(\"\\nAcessando linhas 1 e 2: \\n\", array[[1,2]])"
      ]
    },
    {
      "cell_type": "markdown",
      "metadata": {
        "id": "i5l-SNXNIx23"
      },
      "source": [
        "## Get row numbers of NumPy array having element larger than X"
      ]
    },
    {
      "cell_type": "code",
      "execution_count": 57,
      "metadata": {
        "colab": {
          "base_uri": "https://localhost:8080/"
        },
        "id": "TgS_tXRHJAP0",
        "outputId": "86f369bf-f1a4-4cc5-acc4-83414e3c5e4d"
      },
      "outputs": [
        {
          "name": "stdout",
          "output_type": "stream",
          "text": [
            "array de exemplo: \n",
            " [[1 2 3]\n",
            " [4 5 6]\n",
            " [7 8 9]]\n",
            "\n",
            "Os numeros da linha que possui elementos maiores que 5, são: \n",
            " [1 2]\n"
          ]
        }
      ],
      "source": [
        "array = np.array([[1, 2, 3], [4, 5, 6], [7, 8, 9]])\n",
        "print(\"array de exemplo: \\n\", array)\n",
        "print(\"\\nOs numeros da linha que possui elementos maiores que 5, são: \\n\", np.where(np.any(array > 5, axis = 1))[0])"
      ]
    },
    {
      "cell_type": "markdown",
      "metadata": {
        "id": "hvem3Bk0KlVj"
      },
      "source": [
        "## Get filled the diagonals of NumPy array"
      ]
    },
    {
      "cell_type": "code",
      "execution_count": 58,
      "metadata": {
        "colab": {
          "base_uri": "https://localhost:8080/"
        },
        "id": "68aShmW0Kz2S",
        "outputId": "44125dbe-cf6c-4870-8670-e434d86d80dc"
      },
      "outputs": [
        {
          "name": "stdout",
          "output_type": "stream",
          "text": [
            "array de exemplo: \n",
            " [[0. 0. 0. 0.]\n",
            " [0. 0. 0. 0.]\n",
            " [0. 0. 0. 0.]\n",
            " [0. 0. 0. 0.]]\n",
            "\n",
            "Após preencher a diagonal, temos: \n",
            " [[888.   0.   0.   0.]\n",
            " [  0. 888.   0.   0.]\n",
            " [  0.   0. 888.   0.]\n",
            " [  0.   0.   0. 888.]]\n"
          ]
        }
      ],
      "source": [
        "array = np.zeros((4,4))\n",
        "print(\"array de exemplo: \\n\", array)\n",
        "np.fill_diagonal(array, 888)\n",
        "print(\"\\nApós preencher a diagonal, temos: \\n\", array)"
      ]
    },
    {
      "cell_type": "markdown",
      "metadata": {
        "id": "np3Tg5RSLZDa"
      },
      "source": [
        "## Check elements present in the NumPy array"
      ]
    },
    {
      "cell_type": "code",
      "execution_count": 59,
      "metadata": {
        "colab": {
          "base_uri": "https://localhost:8080/"
        },
        "id": "0Ae8_FH8Lb-8",
        "outputId": "aa0e61cc-8246-4c42-f415-b6ca1a5eefc4"
      },
      "outputs": [
        {
          "name": "stdout",
          "output_type": "stream",
          "text": [
            "array de exemplo: \n",
            " [[1 2 3]\n",
            " [4 5 6]\n",
            " [7 8 9]]\n",
            "\n",
            "Verificando a presença do '20':  False\n",
            "\n",
            "Verificando a presença do '5':  True\n"
          ]
        }
      ],
      "source": [
        "array = np.array([[1, 2, 3], [4, 5, 6], [7, 8, 9]])\n",
        "print(\"array de exemplo: \\n\", array)\n",
        "print(\"\\nVerificando a presença do '20': \", 20 in array)\n",
        "print(\"\\nVerificando a presença do '5': \", 5 in array)"
      ]
    },
    {
      "cell_type": "markdown",
      "metadata": {
        "id": "EIEdWlN9MTAq"
      },
      "source": [
        "## Combined array index by index"
      ]
    },
    {
      "cell_type": "code",
      "execution_count": 60,
      "metadata": {
        "id": "pcQwWyQyMW_5"
      },
      "outputs": [
        {
          "name": "stdout",
          "output_type": "stream",
          "text": [
            "array1 de exemplo: \n",
            " [1 2 3]\n",
            "\n",
            "array2 de exemplo: \n",
            " [4 5 6]\n",
            "\n",
            "Resultado: \n",
            " [[1 4]\n",
            " [2 5]\n",
            " [3 6]]\n"
          ]
        }
      ],
      "source": [
        "# combined array index by index\n",
        "array1 = np.array([1, 2, 3])\n",
        "array2 = np.array([4, 5, 6])\n",
        "print(\"array1 de exemplo: \\n\", array1)\n",
        "print(\"\\narray2 de exemplo: \\n\", array2)\n",
        "print(\"\\nResultado: \\n\", np.c_[array1, array2])\n"
      ]
    },
    {
      "cell_type": "markdown",
      "metadata": {
        "id": "UD0jLNF1Nus7"
      },
      "source": [
        "# Questions on NumPy Linear Algebra"
      ]
    },
    {
      "cell_type": "markdown",
      "metadata": {
        "id": "b3lOh4KpN2z4"
      },
      "source": [
        "## Find a matrix or vector norm using NumPy"
      ]
    },
    {
      "cell_type": "code",
      "execution_count": 61,
      "metadata": {
        "colab": {
          "base_uri": "https://localhost:8080/"
        },
        "id": "NcU5cKQTN57g",
        "outputId": "b9af1069-93cc-4d55-e299-21f5bee2f68b"
      },
      "outputs": [
        {
          "name": "stdout",
          "output_type": "stream",
          "text": [
            "Matrix de exemplo: \n",
            " [[1 2 3]\n",
            " [4 5 6]\n",
            " [7 8 9]]\n",
            "\n",
            "Matrix norm:  16.881943016134134\n",
            "\n",
            "array de exemplo: \n",
            " [ 1  2  3  4  5  6  7  8  9 10]\n",
            "\n",
            "Vector norm:  19.621416870348583\n"
          ]
        }
      ],
      "source": [
        "matrix = np.matrix([[1, 2, 3],[4, 5, 6], [7, 8, 9]])\n",
        "print(\"Matrix de exemplo: \\n\", matrix)\n",
        "print(\"\\nMatrix norm: \", np.linalg.norm(matrix))\n",
        "\n",
        "array = np.array([1, 2, 3, 4, 5, 6, 7, 8, 9, 10])\n",
        "print(\"\\narray de exemplo: \\n\", array)\n",
        "print(\"\\nVector norm: \", np.linalg.norm(array))"
      ]
    },
    {
      "cell_type": "markdown",
      "metadata": {
        "id": "DGX-9W1XRatW"
      },
      "source": [
        "## Calculate the QR decomposition of a given matrix using NumPy"
      ]
    },
    {
      "cell_type": "code",
      "execution_count": 62,
      "metadata": {
        "colab": {
          "base_uri": "https://localhost:8080/"
        },
        "id": "4-uhtjbwRfNm",
        "outputId": "afda488d-2c22-4ecb-f8a7-dcde595fc9b4"
      },
      "outputs": [
        {
          "name": "stdout",
          "output_type": "stream",
          "text": [
            "\n",
            "Q:\n",
            " [[-0.24253563 -0.9701425 ]\n",
            " [-0.9701425   0.24253563]]\n",
            "\n",
            "R:\n",
            " [[-4.12310563 -5.33578375 -6.54846188]\n",
            " [ 0.         -0.72760688 -1.45521375]]\n"
          ]
        }
      ],
      "source": [
        "matrix = np.matrix([[1, 2, 3], [4, 5, 6]])\n",
        "q, r = np.linalg.qr(matrix)\n",
        "print('\\nQ:\\n', q)\n",
        "print('\\nR:\\n', r)"
      ]
    },
    {
      "cell_type": "markdown",
      "metadata": {
        "id": "E64lD4wBSKwM"
      },
      "source": [
        "## Compute the condition number of a given matrix using NumPy"
      ]
    },
    {
      "cell_type": "code",
      "execution_count": 63,
      "metadata": {
        "colab": {
          "base_uri": "https://localhost:8080/"
        },
        "id": "Zdj80QBmSPhN",
        "outputId": "9b358823-70ce-4319-d788-18efa2c303a6"
      },
      "outputs": [
        {
          "name": "stdout",
          "output_type": "stream",
          "text": [
            "Numero de condicoes da mtriz:  3.813147060626918e+16\n"
          ]
        }
      ],
      "source": [
        "matrix = np.matrix([[1, 2, 3], [4, 5, 6], [7, 8, 9]])\n",
        "print(\"Numero de condicoes da mtriz: \", np.linalg.cond(matrix))"
      ]
    },
    {
      "cell_type": "markdown",
      "metadata": {
        "id": "gD4Na5lgTVl0"
      },
      "source": [
        "## Compute the eigenvalues and right eigenvectors of a given square array using NumPy?"
      ]
    },
    {
      "cell_type": "code",
      "execution_count": 64,
      "metadata": {
        "colab": {
          "base_uri": "https://localhost:8080/"
        },
        "id": "C5bNe1vITYZU",
        "outputId": "c603e824-7199-40ee-995d-5eb5cc013686"
      },
      "outputs": [
        {
          "name": "stdout",
          "output_type": "stream",
          "text": [
            "Array de exemplo: \n",
            " [[1 2 3]\n",
            " [4 5 6]\n",
            " [7 8 9]]\n",
            "\n",
            "Eigen valuesy:\n",
            " [-0.37228132  5.37228132]\n",
            "\n",
            "Right eigenvectors:\n",
            " [[-0.82456484 -0.41597356]\n",
            " [ 0.56576746 -0.90937671]]\n"
          ]
        }
      ],
      "source": [
        "array = np.array([[1, 2, 3], [4, 5, 6], [7, 8, 9]])\n",
        "result1, result2 = np.linalg.eig(a)\n",
        "\n",
        "print(\"Array de exemplo: \\n\", array)\n",
        "  \n",
        "# printing eigen values\n",
        "print(\"\\nEigen valuesy:\\n\", result1)\n",
        "  \n",
        "# printing eigen vectors\n",
        "print(\"\\nRight eigenvectors:\\n\", result2)"
      ]
    },
    {
      "cell_type": "markdown",
      "metadata": {
        "id": "icSvlrPDbLB2"
      },
      "source": [
        "## Calculate the Euclidean distance using NumPy"
      ]
    },
    {
      "cell_type": "code",
      "execution_count": 65,
      "metadata": {
        "colab": {
          "base_uri": "https://localhost:8080/"
        },
        "id": "waY7cTKUbL_v",
        "outputId": "51075b42-d481-4dfa-bbb4-d1d2d635090c"
      },
      "outputs": [
        {
          "name": "stdout",
          "output_type": "stream",
          "text": [
            "Ponto 1: [3 4 5]\n",
            "Ponto 2: [5 4 3]\n",
            "\n",
            "Distancia entre o ponto 1 e o ponto 2:  2.8284271247461903\n"
          ]
        }
      ],
      "source": [
        "ponto1 = np.array((3, 4, 5))\n",
        "print(\"Ponto 1:\", ponto1)\n",
        "ponto2 = np.array((5, 4, 3))\n",
        "print(\"Ponto 2:\", ponto2)\n",
        "dist = np.linalg.norm(ponto1 - ponto2)\n",
        "print(\"\\nDistancia entre o ponto 1 e o ponto 2: \", dist)"
      ]
    },
    {
      "cell_type": "markdown",
      "metadata": {
        "id": "S-skuAgbXbHH"
      },
      "source": [
        "# Questions on NumPy Random"
      ]
    },
    {
      "cell_type": "markdown",
      "metadata": {
        "id": "_kXrat8JXcWm"
      },
      "source": [
        "## Create a Numpy array with random values"
      ]
    },
    {
      "cell_type": "code",
      "execution_count": 66,
      "metadata": {
        "colab": {
          "base_uri": "https://localhost:8080/"
        },
        "id": "47Cg8QqQXiah",
        "outputId": "0f45f721-00cf-4a7c-f790-af7333504e82"
      },
      "outputs": [
        {
          "name": "stdout",
          "output_type": "stream",
          "text": [
            "Criando uma matriz aleatória 3x3: \n",
            " [[0.06411303 0.92091538 0.63945579]\n",
            " [0.64342585 0.48925037 0.53647942]\n",
            " [0.53737173 0.36462802 0.30152202]]\n"
          ]
        }
      ],
      "source": [
        "print(\"Criando uma matriz aleatória 3x3: \\n\", np.random.rand(3,3))"
      ]
    },
    {
      "cell_type": "markdown",
      "metadata": {
        "id": "zABrrZ4VYKbm"
      },
      "source": [
        "## How to choose elements from the list with different probability using NumPy?"
      ]
    },
    {
      "cell_type": "code",
      "execution_count": 67,
      "metadata": {
        "colab": {
          "base_uri": "https://localhost:8080/"
        },
        "id": "QxT7fi5iYPod",
        "outputId": "ca669d42-1497-4c03-e155-2a7c7fd3acf0"
      },
      "outputs": [
        {
          "name": "stdout",
          "output_type": "stream",
          "text": [
            "lista:  [1, 2, 3, 4, 5, 6, 7, 8, 9, 10]\n",
            "\n",
            "Numero sorteado aleatoriamente usando NumPy:  1\n"
          ]
        }
      ],
      "source": [
        "list_ = [1,2,3,4,5,6,7,8,9,10]\n",
        "print(\"lista: \", list_)\n",
        "number = np.random.choice(list_)\n",
        "print(\"\\nNumero sorteado aleatoriamente usando NumPy: \", number)"
      ]
    },
    {
      "cell_type": "markdown",
      "metadata": {
        "id": "NjeuFGb4Y1_t"
      },
      "source": [
        "## How to get weighted random choice in Python?"
      ]
    },
    {
      "cell_type": "code",
      "execution_count": 68,
      "metadata": {
        "colab": {
          "base_uri": "https://localhost:8080/"
        },
        "id": "RlE-7t5rY56H",
        "outputId": "79bef4a8-94b1-47be-e255-c806a37596a7"
      },
      "outputs": [
        {
          "name": "stdout",
          "output_type": "stream",
          "text": [
            "lista:  [1, 2, 3, 4, 5, 6, 7, 8, 9, 10]\n",
            "\n",
            "Escolha aleatoria ponderada: \n",
            " [5, 8, 10, 7, 7]\n"
          ]
        }
      ],
      "source": [
        "import random\n",
        "list_ = [1,2,3,4,5,6,7,8,9,10]\n",
        "print(\"lista: \", list_)\n",
        "randomlist = random.choices(list_,(1,2,3,4,5,6,7,8,9,10),k=5)\n",
        "  \n",
        "print(\"\\nEscolha aleatoria ponderada: \\n\", randomlist)"
      ]
    },
    {
      "cell_type": "markdown",
      "metadata": {
        "id": "BPsQsGnrZ5QF"
      },
      "source": [
        "## Generate Random Numbers From The Uniform Distribution using NumPy"
      ]
    },
    {
      "cell_type": "code",
      "execution_count": 69,
      "metadata": {
        "colab": {
          "base_uri": "https://localhost:8080/"
        },
        "id": "YUnMFplVZ847",
        "outputId": "ed797da3-f11f-4e03-9c21-50d45356e092"
      },
      "outputs": [
        {
          "name": "stdout",
          "output_type": "stream",
          "text": [
            "Numeros gerados:  [0.40539453 0.32139332 0.65516117 0.73833672 0.31864543]\n"
          ]
        }
      ],
      "source": [
        "numbers = np.random.uniform(size=5)\n",
        "print(\"Numeros gerados: \", numbers)"
      ]
    },
    {
      "cell_type": "markdown",
      "metadata": {
        "id": "61-uNpXPaQ02"
      },
      "source": [
        "## Get Random Elements form geometric distribution"
      ]
    },
    {
      "cell_type": "code",
      "execution_count": 70,
      "metadata": {
        "colab": {
          "base_uri": "https://localhost:8080/"
        },
        "id": "wMdfvc5faV20",
        "outputId": "dbbe24db-44df-4d95-dbd1-71721ffd330a"
      },
      "outputs": [
        {
          "name": "stdout",
          "output_type": "stream",
          "text": [
            "Numeros gerados:  [4 2 1 2 1 2 1 1 1 1]\n"
          ]
        }
      ],
      "source": [
        "numbers = np.random.geometric(0.5, 10)\n",
        "print(\"Numeros gerados: \", numbers)"
      ]
    },
    {
      "cell_type": "markdown",
      "metadata": {
        "id": "_SnN8y3fagl_"
      },
      "source": [
        "## Get Random elements from Laplace distribution"
      ]
    },
    {
      "cell_type": "code",
      "execution_count": 71,
      "metadata": {
        "colab": {
          "base_uri": "https://localhost:8080/"
        },
        "id": "SlrSIZeoakTS",
        "outputId": "35e90ce5-3210-4067-fcd2-b9305bf0af02"
      },
      "outputs": [
        {
          "name": "stdout",
          "output_type": "stream",
          "text": [
            "Numeros gerados:  [0.8766281  0.10743909 0.61422709 1.89881355 1.06476941 2.26106098\n",
            " 2.93186988 0.32156079 0.63053855 1.67910027]\n"
          ]
        }
      ],
      "source": [
        "numbers = np.random.laplace(2, 1, 10)\n",
        "print(\"Numeros gerados: \", numbers)"
      ]
    },
    {
      "cell_type": "markdown",
      "metadata": {
        "id": "UYkCGjeRas3H"
      },
      "source": [
        "## Return a Matrix of random values from a uniform distribution"
      ]
    },
    {
      "cell_type": "code",
      "execution_count": 72,
      "metadata": {
        "colab": {
          "base_uri": "https://localhost:8080/"
        },
        "id": "RlD2DOwHaw7V",
        "outputId": "405a973b-cb77-4c2a-befc-d5abc2dceeb3"
      },
      "outputs": [
        {
          "name": "stdout",
          "output_type": "stream",
          "text": [
            "Numeros gerados: \n",
            " [[0.36630598 0.98337956 0.00360957]\n",
            " [0.33477837 0.32820189 0.1087969 ]\n",
            " [0.15258514 0.81194985 0.20525888]]\n"
          ]
        }
      ],
      "source": [
        "numbers = np.random.uniform(size=(3,3))\n",
        "print(\"Numeros gerados: \\n\", numbers)"
      ]
    },
    {
      "cell_type": "markdown",
      "metadata": {
        "id": "yB2vfGQHbS6J"
      },
      "source": [
        "## Return a Matrix of random values from a Gaussian distribution"
      ]
    },
    {
      "cell_type": "code",
      "execution_count": 73,
      "metadata": {
        "colab": {
          "base_uri": "https://localhost:8080/"
        },
        "id": "wFFEasUtbL6u",
        "outputId": "f9da0af8-f603-45fd-e327-f37e534bb386"
      },
      "outputs": [
        {
          "name": "stdout",
          "output_type": "stream",
          "text": [
            "Numeros gerados: \n",
            " [[ 0.89933599  1.30821143 -0.52030065]\n",
            " [ 2.20269457  0.02141883  0.06658672]\n",
            " [-0.78694668  0.80008109 -0.99137785]]\n"
          ]
        }
      ],
      "source": [
        "numbers = np.random.normal(size=(3,3))\n",
        "print(\"Numeros gerados: \\n\", numbers)"
      ]
    },
    {
      "cell_type": "markdown",
      "metadata": {
        "id": "R0ibYhDPbkkm"
      },
      "source": [
        "# Questions on NumPy Sorting and Searching"
      ]
    },
    {
      "cell_type": "markdown",
      "metadata": {
        "id": "JN5XcEEoblqz"
      },
      "source": [
        "## How to get the indices of the sorted array using NumPy in Python?"
      ]
    },
    {
      "cell_type": "code",
      "execution_count": 74,
      "metadata": {
        "colab": {
          "base_uri": "https://localhost:8080/"
        },
        "id": "uWFaGFoibodh",
        "outputId": "7bffd882-5094-414c-c901-c7b935e266d0"
      },
      "outputs": [
        {
          "name": "stdout",
          "output_type": "stream",
          "text": [
            "índices ordenados pelos valores do array: \n",
            " [1 2 5 6 8 7 4 9 3 0]\n"
          ]
        }
      ],
      "source": [
        "array = np.array([10, 1, 2, 9, 7, 3, 4, 6, 5, 8])\n",
        "print(\"índices ordenados pelos valores do array: \\n\", np.argsort(array))"
      ]
    },
    {
      "cell_type": "markdown",
      "metadata": {
        "id": "2CSxkvWldQsO"
      },
      "source": [
        "## Finding the k smallest values of a NumPy array"
      ]
    },
    {
      "cell_type": "code",
      "execution_count": 75,
      "metadata": {
        "colab": {
          "base_uri": "https://localhost:8080/"
        },
        "id": "mjUJNHoMdj6y",
        "outputId": "ef72546c-39cd-4c34-9c7c-5a71afac7fa6"
      },
      "outputs": [
        {
          "name": "stdout",
          "output_type": "stream",
          "text": [
            "Array inicial de exemplo: \n",
            " [5 6 4 3 1 2]\n",
            "\n",
            " 3  Menores valores do array\n",
            "[1 2 3]\n"
          ]
        }
      ],
      "source": [
        "array = np.array([5, 6, 4, 3, 1, 2])\n",
        "print(\"Array inicial de exemplo: \\n\", array)\n",
        "k = 3\n",
        "  \n",
        "print(\"\\n\", k, \" Menores valores do array\")\n",
        "print(np.sort(array)[:k])"
      ]
    },
    {
      "cell_type": "markdown",
      "metadata": {
        "id": "_Zot9uNAeKzu"
      },
      "source": [
        "## How to get the n-largest values of an array using NumPy?"
      ]
    },
    {
      "cell_type": "code",
      "execution_count": 76,
      "metadata": {
        "colab": {
          "base_uri": "https://localhost:8080/"
        },
        "id": "O-JJFaTmeNZG",
        "outputId": "544d653e-ddd1-4b98-eeda-a9130f244fff"
      },
      "outputs": [
        {
          "name": "stdout",
          "output_type": "stream",
          "text": [
            "Array inicial de exemplo: \n",
            " [5 6 4 3 1 2]\n",
            "\n",
            " 3  Maiores valores do array\n",
            "[4 5 6]\n"
          ]
        }
      ],
      "source": [
        "array = np.array([5, 6, 4, 3, 1, 2])\n",
        "print(\"Array inicial de exemplo: \\n\", array)\n",
        "k = 3\n",
        "  \n",
        "print(\"\\n\", k, \" Maiores valores do array\")\n",
        "print(np.sort(array)[-k:])"
      ]
    },
    {
      "cell_type": "markdown",
      "metadata": {
        "id": "HW7itvuneuK3"
      },
      "source": [
        "## Sort the values in a matrix"
      ]
    },
    {
      "cell_type": "code",
      "execution_count": 77,
      "metadata": {
        "colab": {
          "base_uri": "https://localhost:8080/"
        },
        "id": "MKaW8zleexMQ",
        "outputId": "b5cdf294-6e87-4666-d4dd-cf62279b2de7"
      },
      "outputs": [
        {
          "name": "stdout",
          "output_type": "stream",
          "text": [
            "Matriz inicial de exemplo: \n",
            " [[5 6 4]\n",
            " [3 1 2]\n",
            " [9 7 8]]\n",
            "\n",
            "Matriz ordenada nas linhas: \n",
            " [[4 5 6]\n",
            " [1 2 3]\n",
            " [7 8 9]]\n",
            "\n",
            "Matriz ordenada completamente: \n",
            " [[1 2 3]\n",
            " [4 5 6]\n",
            " [7 8 9]]\n"
          ]
        }
      ],
      "source": [
        "matrix = np.matrix([[5, 6, 4], [3, 1, 2], [9, 7, 8]])\n",
        "print(\"Matriz inicial de exemplo: \\n\", matrix)\n",
        "matrix.sort()\n",
        "print(\"\\nMatriz ordenada nas linhas: \\n\", matrix)\n",
        "matrix.sort()\n",
        "print(\"\\nMatriz ordenada completamente: \\n\", np.sort(np.ravel(matrix)).reshape([3, 3]))"
      ]
    },
    {
      "cell_type": "markdown",
      "metadata": {
        "id": "0BPlV9cHft_B"
      },
      "source": [
        "## Filter out integers from float numpy array"
      ]
    },
    {
      "cell_type": "code",
      "execution_count": 78,
      "metadata": {
        "colab": {
          "base_uri": "https://localhost:8080/"
        },
        "id": "NyMlW5rsfxOH",
        "outputId": "377c9508-34ee-40d1-9157-0d6d2aca9542"
      },
      "outputs": [
        {
          "name": "stdout",
          "output_type": "stream",
          "text": [
            "Array inicial de exemplo: \n",
            " [1.1 1.2 1.  2.1 2.  2.3 3.  3.2 3.3]\n",
            "\n",
            "Array após remover os inteiors: \n",
            " [1.1 1.2 2.1 2.3 3.2 3.3]\n"
          ]
        }
      ],
      "source": [
        "array = np.array([1.1, 1.2, 1, 2.1, 2, 2.3, 3, 3.2, 3.3])\n",
        "print(\"Array inicial de exemplo: \\n\", array)\n",
        "array = array[array != array.astype(int)] \n",
        "print(\"\\nArray após remover os inteiors: \\n\", array)"
      ]
    },
    {
      "cell_type": "markdown",
      "metadata": {
        "id": "bcx4lXEIhYIR"
      },
      "source": [
        "## Find the indices into a sorted array"
      ]
    },
    {
      "cell_type": "code",
      "execution_count": 79,
      "metadata": {
        "colab": {
          "base_uri": "https://localhost:8080/"
        },
        "id": "PXuKRBfYhaRh",
        "outputId": "ab8d4da4-0d8d-415b-9240-cf5c22d6438a"
      },
      "outputs": [
        {
          "name": "stdout",
          "output_type": "stream",
          "text": [
            "índices ordenados pelos valores do array: \n",
            " [1 2 5 6 8 7 4 9 3 0]\n"
          ]
        }
      ],
      "source": [
        "array = np.array([10, 1, 2, 9, 7, 3, 4, 6, 5, 8])\n",
        "print(\"índices ordenados pelos valores do array: \\n\", np.argsort(array))"
      ]
    },
    {
      "cell_type": "markdown",
      "metadata": {
        "id": "To_D049ih5-q"
      },
      "source": [
        "# Questions on NumPy Mathematics"
      ]
    },
    {
      "cell_type": "markdown",
      "metadata": {
        "id": "VhoJnsE0h673"
      },
      "source": [
        "## How to get element-wise true division of an array using Numpy?"
      ]
    },
    {
      "cell_type": "code",
      "execution_count": 80,
      "metadata": {
        "colab": {
          "base_uri": "https://localhost:8080/"
        },
        "id": "emIMmS2Rh9Y3",
        "outputId": "6f6710d4-87d5-430a-84b3-b953f897142d"
      },
      "outputs": [
        {
          "name": "stdout",
          "output_type": "stream",
          "text": [
            "Array inicial de exemplo:  [0 1 2 3 4]\n",
            "\n",
            "Elementos divididos por 4: [0.   0.25 0.5  0.75 1.  ]\n"
          ]
        }
      ],
      "source": [
        "array = np.arange(5)\n",
        "print(\"Array inicial de exemplo: \", array)\n",
        "print(\"\\nElementos divididos por 4:\", np.true_divide(array, 4))"
      ]
    },
    {
      "cell_type": "markdown",
      "metadata": {
        "id": "Zw0lUPZBlU7p"
      },
      "source": [
        "## How to calculate the element-wise absolute value of NumPy array?"
      ]
    },
    {
      "cell_type": "code",
      "execution_count": 81,
      "metadata": {
        "colab": {
          "base_uri": "https://localhost:8080/"
        },
        "id": "cWCUKiV2lYbb",
        "outputId": "7279918b-4f0d-4de7-e386-ff2a20dfc32f"
      },
      "outputs": [
        {
          "name": "stdout",
          "output_type": "stream",
          "text": [
            "Array inicial de exemplo: \n",
            " [   1   -2 -313   -4   12  -21   45  445]\n",
            "\n",
            "Valor absoluto: \n",
            " [  1   2 313   4  12  21  45 445]\n"
          ]
        }
      ],
      "source": [
        "array = np.array([1,-2,-313,-4,12,-21,45,445])\n",
        "print(\"Array inicial de exemplo: \\n\", array)\n",
        "print(\"\\nValor absoluto: \\n\", np.absolute(array))"
      ]
    },
    {
      "cell_type": "markdown",
      "metadata": {
        "id": "O2Mch-JBl_p5"
      },
      "source": [
        "## Compute the negative of the NumPy array"
      ]
    },
    {
      "cell_type": "code",
      "execution_count": 82,
      "metadata": {
        "colab": {
          "base_uri": "https://localhost:8080/"
        },
        "id": "PQYST8-nmFNC",
        "outputId": "26356f2f-1b6c-410b-b5c3-179aa36ddbe6"
      },
      "outputs": [
        {
          "name": "stdout",
          "output_type": "stream",
          "text": [
            "Array inicial de exemplo: \n",
            " [   1   -2 -313   -4   12  -21   45  445]\n",
            "\n",
            "Valor absoluto: \n",
            " [  -1    2  313    4  -12   21  -45 -445]\n"
          ]
        }
      ],
      "source": [
        "array = np.array([1,-2,-313,-4,12,-21,45,445])\n",
        "print(\"Array inicial de exemplo: \\n\", array)\n",
        "print(\"\\nValor absoluto: \\n\", np.negative(array))"
      ]
    },
    {
      "cell_type": "markdown",
      "metadata": {
        "id": "fhfqUeSWmdra"
      },
      "source": [
        "## Multiply 2d numpy array corresponding to 1d array"
      ]
    },
    {
      "cell_type": "code",
      "execution_count": 83,
      "metadata": {
        "colab": {
          "base_uri": "https://localhost:8080/"
        },
        "id": "N042mrUWmf8p",
        "outputId": "33b645a5-dd54-45ea-b449-1ecd3205d50f"
      },
      "outputs": [
        {
          "name": "stdout",
          "output_type": "stream",
          "text": [
            "Array1: \n",
            " [[1 2 3]\n",
            " [4 5 6]\n",
            " [7 8 9]]\n",
            "\n",
            "Array2: \n",
            " [0 5 3]\n",
            "\n",
            "Resultado: \n",
            " [[ 0  0  0]\n",
            " [20 25 30]\n",
            " [21 24 27]]\n"
          ]
        }
      ],
      "source": [
        "array1 = np.array([[1, 2, 3], [4, 5, 6], [7 ,8 ,9]])\n",
        "print(\"Array1: \\n\", array1)\n",
        "array2 = np.array([0, 5, 3])\n",
        "print(\"\\nArray2: \\n\", array2)\n",
        "\n",
        "result = array1 * array2[:, np.newaxis]\n",
        "print(\"\\nResultado: \\n\", result)"
      ]
    },
    {
      "cell_type": "markdown",
      "metadata": {
        "id": "PvEs9ldTnRCT"
      },
      "source": [
        "## Computes the inner product of two arrays"
      ]
    },
    {
      "cell_type": "code",
      "execution_count": 84,
      "metadata": {
        "colab": {
          "base_uri": "https://localhost:8080/"
        },
        "id": "c85Uk1dGnT0K",
        "outputId": "f23d4af2-e053-4ccf-d0ef-33f54b66c277"
      },
      "outputs": [
        {
          "name": "stdout",
          "output_type": "stream",
          "text": [
            "Array1: \n",
            " [1 2 3 4 5]\n",
            "\n",
            "Array2: \n",
            " [ 6  7  8  9 10]\n",
            "\n",
            "Resultado: \n",
            " 130\n"
          ]
        }
      ],
      "source": [
        "array1 = np.array([1, 2, 3, 4, 5])\n",
        "print(\"Array1: \\n\", array1)\n",
        "array2 = np.array([6, 7, 8, 9, 10])\n",
        "print(\"\\nArray2: \\n\", array2)\n",
        "result = np.inner(array1, array2)\n",
        "print(\"\\nResultado: \\n\", result)"
      ]
    },
    {
      "cell_type": "markdown",
      "metadata": {
        "id": "teHvI64DoM8K"
      },
      "source": [
        "## Compute the nth percentile of the NumPy array"
      ]
    },
    {
      "cell_type": "code",
      "execution_count": 85,
      "metadata": {
        "colab": {
          "base_uri": "https://localhost:8080/"
        },
        "id": "Gr7-N18soRuk",
        "outputId": "d9d5915f-2db2-4481-e980-6a2a323fce2c"
      },
      "outputs": [
        {
          "name": "stdout",
          "output_type": "stream",
          "text": [
            "50th percentile of arr :  5.5\n",
            "25th percentile of arr :  3.25\n",
            "75th percentile of arr :  7.75\n"
          ]
        }
      ],
      "source": [
        "array = np.array([1,2,3,4,5,6,7,8,9,10])\n",
        "n=50\n",
        "print(\"50th percentile of arr : \",\n",
        "       np.percentile(array, 50))\n",
        "print(\"25th percentile of arr : \",\n",
        "       np.percentile(array, 25))\n",
        "print(\"75th percentile of arr : \",\n",
        "       np.percentile(array, 75))"
      ]
    },
    {
      "cell_type": "markdown",
      "metadata": {
        "id": "jhJJIJuXo_Ch"
      },
      "source": [
        "## Calculate the n-th order discrete difference along the given axis"
      ]
    },
    {
      "cell_type": "code",
      "execution_count": 86,
      "metadata": {
        "colab": {
          "base_uri": "https://localhost:8080/"
        },
        "id": "BAJZ2XDVpB6R",
        "outputId": "822264cc-c07b-4154-f93f-de425f8e695e"
      },
      "outputs": [
        {
          "name": "stdout",
          "output_type": "stream",
          "text": [
            "First order difference  :  [-1  6 -7  8 -2 -2  5 -4 -2]\n",
            "Second order difference :  [  7 -13  15 -10   0   7  -9   2]\n",
            "Third order difference  :  [-20  28 -25  10   7 -16  11]\n"
          ]
        }
      ],
      "source": [
        "array = np.array([3, 2, 8, 1, 9, 7, 5, 10, 6, 4])\n",
        "  \n",
        "print(\"First order difference  : \", np.diff(array))\n",
        "print(\"Second order difference : \", np.diff(array, 2))\n",
        "print(\"Third order difference  : \", np.diff(array, 3))"
      ]
    },
    {
      "cell_type": "markdown",
      "metadata": {
        "id": "U_asQFpVpx2r"
      },
      "source": [
        "## Calculate the sum of all columns in a 2D NumPy array"
      ]
    },
    {
      "cell_type": "code",
      "execution_count": 87,
      "metadata": {
        "colab": {
          "base_uri": "https://localhost:8080/"
        },
        "id": "-XSHMeeEp1Mp",
        "outputId": "2e4c1286-4218-4eba-d831-ee44e95acb23"
      },
      "outputs": [
        {
          "name": "stdout",
          "output_type": "stream",
          "text": [
            "Array inicial de exemplo: \n",
            " [[1 2 3]\n",
            " [4 5 6]\n",
            " [7 8 9]]\n",
            "\n",
            "Resultado das somas das colunas [12 15 18]\n"
          ]
        }
      ],
      "source": [
        "array = np.array([[1, 2, 3], [4, 5, 6], [7, 8, 9]])\n",
        "print(\"Array inicial de exemplo: \\n\", array)\n",
        "print(\"\\nResultado das somas das colunas\", np.sum(array, axis=0))"
      ]
    },
    {
      "cell_type": "markdown",
      "metadata": {
        "id": "ckyHKFwVqnt0"
      },
      "source": [
        "## Calculate average values of two given NumPy arrays"
      ]
    },
    {
      "cell_type": "code",
      "execution_count": 88,
      "metadata": {
        "colab": {
          "base_uri": "https://localhost:8080/"
        },
        "id": "uUURmhQJqp8L",
        "outputId": "4f10cb44-d72f-4112-f0c0-89d033aeee1f"
      },
      "outputs": [
        {
          "name": "stdout",
          "output_type": "stream",
          "text": [
            "Array1: \n",
            " [1 2 3 4 5]\n",
            "Array2: \n",
            " [ 6  7  8  9 10]\n",
            "\n",
            "Valor medio das duas matrizes NumPy:\n",
            " [3.5 4.5 5.5 6.5 7.5]\n"
          ]
        }
      ],
      "source": [
        "array1 = np.array([1, 2, 3, 4, 5])\n",
        "print(\"Array1: \\n\", array1)\n",
        "array2 = np.array([6, 7, 8, 9, 10])\n",
        "print(\"Array2: \\n\", array2)\n",
        "  \n",
        "avg = (array1 + array2) / 2\n",
        "  \n",
        "print(\"\\nValor medio das duas matrizes NumPy:\\n\", avg)"
      ]
    },
    {
      "cell_type": "markdown",
      "metadata": {
        "id": "fbWUu1I1rUFq"
      },
      "source": [
        "## How to compute numerical negative value for all elements in a given NumPy array?"
      ]
    },
    {
      "cell_type": "code",
      "execution_count": 89,
      "metadata": {
        "colab": {
          "base_uri": "https://localhost:8080/"
        },
        "id": "PKHEqg-IrXXa",
        "outputId": "50e594c6-e5fa-47b6-d1f2-cd8c688ef072"
      },
      "outputs": [
        {
          "name": "stdout",
          "output_type": "stream",
          "text": [
            "Array inicial de exemplo: \n",
            " [ 1  2  3  4  5  6  7  8  9 10]\n",
            "\n",
            "valor negativo numérico para todos os elementos [ -1  -2  -3  -4  -5  -6  -7  -8  -9 -10]\n"
          ]
        }
      ],
      "source": [
        "array = np.array([1,2,3,4,5,6,7,8,9,10])\n",
        "print(\"Array inicial de exemplo: \\n\", array)\n",
        "print(\"\\nvalor negativo numérico para todos os elementos\", np.negative(array))"
      ]
    },
    {
      "cell_type": "markdown",
      "metadata": {
        "id": "rT5eyqKkr9Mq"
      },
      "source": [
        "## How to get the floor, ceiling and truncated values of the elements of a numpy array?"
      ]
    },
    {
      "cell_type": "code",
      "execution_count": 90,
      "metadata": {
        "colab": {
          "base_uri": "https://localhost:8080/"
        },
        "id": "Ui-9kV_xsBPF",
        "outputId": "62a16a3e-2c61-48d1-949e-5c071726c5af"
      },
      "outputs": [
        {
          "name": "stdout",
          "output_type": "stream",
          "text": [
            "Array inicial de exemplo: \n",
            " [ 1.2  2.4  3.6  4.8  5.5  6.3  7.7  8.8  9.1 10.9]\n",
            "\n",
            "floor: \n",
            " [ 1.  2.  3.  4.  5.  6.  7.  8.  9. 10.]\n",
            "\n",
            "ceil: \n",
            " [ 2.  3.  4.  5.  6.  7.  8.  9. 10. 11.]\n",
            "\n",
            "truncate: \n",
            " [ 1.  2.  3.  4.  5.  6.  7.  8.  9. 10.]\n"
          ]
        }
      ],
      "source": [
        "array = np.array([1.2, 2.4, 3.6, 4.8, 5.5, 6.3, 7.7, 8.8, 9.1, 10.9])\n",
        "print(\"Array inicial de exemplo: \\n\", array)\n",
        "  \n",
        "# Get floor value\n",
        "array_floor = np.floor(array)\n",
        "print(\"\\nfloor: \\n\", array_floor)\n",
        "\n",
        "# Get ceil value\n",
        "array_ceil = np.ceil(array)\n",
        "print(\"\\nceil: \\n\", array_ceil)\n",
        "\n",
        "# Get truncate value\n",
        "array_truncate = np.trunc(array)\n",
        "print(\"\\ntruncate: \\n\", array_truncate)"
      ]
    },
    {
      "cell_type": "markdown",
      "metadata": {
        "id": "wKZgeswRtLvE"
      },
      "source": [
        "## How to round elements of the NumPy array to the nearest integer?"
      ]
    },
    {
      "cell_type": "code",
      "execution_count": 91,
      "metadata": {
        "colab": {
          "base_uri": "https://localhost:8080/"
        },
        "id": "0sTGHhNltN-V",
        "outputId": "e9d8564c-f0c4-4f99-d072-ac5dbefa2578"
      },
      "outputs": [
        {
          "name": "stdout",
          "output_type": "stream",
          "text": [
            "Array inicial de exemplo: \n",
            " [  1.       2.812   12.121    2.7221 313.91  ]\n",
            "\n",
            "Elementos arredonadados para o inteiro mais próximo: \n",
            " [  1.   3.  12.   3. 314.]\n"
          ]
        }
      ],
      "source": [
        "array = np.array([1.000000001, 2.812, 12.121, 2.7221, 313.91])\n",
        "print(\"Array inicial de exemplo: \\n\", array)\n",
        "print(\"\\nElementos arredonadados para o inteiro mais próximo: \\n\", np.rint(array))"
      ]
    },
    {
      "cell_type": "markdown",
      "metadata": {
        "id": "kgTWgUp4twQb"
      },
      "source": [
        "## Find the round off the values of the given matrix"
      ]
    },
    {
      "cell_type": "code",
      "execution_count": 92,
      "metadata": {
        "colab": {
          "base_uri": "https://localhost:8080/"
        },
        "id": "ywrn7lr9t0NR",
        "outputId": "80fd8f32-1cce-4773-9fe8-4584600c045d"
      },
      "outputs": [
        {
          "name": "stdout",
          "output_type": "stream",
          "text": [
            "Array inicial de exemplo: \n",
            " [[ 1.      2.812  12.121   2.7221]\n",
            " [ 1.99    2.112  12.921   2.1221]\n",
            " [ 8.99    5.112  32.921   0.1221]]\n",
            "\n",
            "Arredondando os valores: \n",
            " [[ 1.  3. 12.  3.]\n",
            " [ 2.  2. 13.  2.]\n",
            " [ 9.  5. 33.  0.]]\n"
          ]
        }
      ],
      "source": [
        "array = np.array([[1.000000001,2.812,12.121,2.7221], [1.9900000001,2.112,12.921,2.1221], [8.9900000001,5.112,32.921,0.1221]])\n",
        "print(\"Array inicial de exemplo: \\n\", array)\n",
        "print(\"\\nArredondando os valores: \\n\", np.round(array))"
      ]
    },
    {
      "cell_type": "markdown",
      "metadata": {
        "id": "xbuEc7eVupAb"
      },
      "source": [
        "## Determine the positive square-root of an array"
      ]
    },
    {
      "cell_type": "code",
      "execution_count": 93,
      "metadata": {
        "colab": {
          "base_uri": "https://localhost:8080/"
        },
        "id": "KCXVofnIur5T",
        "outputId": "552040ee-006e-42ec-aec4-9da1fbc67c2c"
      },
      "outputs": [
        {
          "name": "stdout",
          "output_type": "stream",
          "text": [
            "Array inicial de exemplo: \n",
            " [[ 49  81  16]\n",
            " [  9 144   4]\n",
            " [100  25  36]]\n",
            "\n",
            "Raiz quadradas da matriz: \n",
            " [[ 7.  9.  4.]\n",
            " [ 3. 12.  2.]\n",
            " [10.  5.  6.]]\n"
          ]
        }
      ],
      "source": [
        "array = np.array([[49, 81, 16], [9, 144, 4], [100, 25, 36]])\n",
        "print(\"Array inicial de exemplo: \\n\", array)\n",
        "print(\"\\nRaiz quadradas da matriz: \\n\", np.sqrt(array))"
      ]
    },
    {
      "cell_type": "markdown",
      "metadata": {
        "id": "08hFD-WUvSd7"
      },
      "source": [
        "## Evaluate Einstein’s summation convention of two multidimensional NumPy arrays"
      ]
    },
    {
      "cell_type": "code",
      "execution_count": 94,
      "metadata": {
        "colab": {
          "base_uri": "https://localhost:8080/"
        },
        "id": "jJ_OrZW8vVmE",
        "outputId": "2e1a882f-af38-45c1-fb1d-d7f08d8aff29"
      },
      "outputs": [
        {
          "name": "stdout",
          "output_type": "stream",
          "text": [
            "Array1 inicial de exemplo: \n",
            " [[1 2]\n",
            " [3 4]]\n",
            "\n",
            "Array2 inicial de exemplo: \n",
            " [[5 6]\n",
            " [7 8]]\n",
            "\n",
            "Convenção de soma de Einstein de duas matrize:\n",
            "[[19 22]\n",
            " [43 50]]\n"
          ]
        }
      ],
      "source": [
        "array1 = np.array([[1, 2], [3, 4]])\n",
        "print(\"Array1 inicial de exemplo: \\n\", array1)\n",
        "array2 = np.array([[5, 6], [7, 8]])\n",
        "print(\"\\nArray2 inicial de exemplo: \\n\", array2)\n",
        "  \n",
        "result = np.einsum(\"mk, kn\", array1, array2)\n",
        "  \n",
        "print(\"\\nConvenção de soma de Einstein de duas matrize:\")\n",
        "print(result)"
      ]
    },
    {
      "cell_type": "markdown",
      "metadata": {
        "id": "mWHZdPjMv1d1"
      },
      "source": [
        "# Questions on NumPy Statistics"
      ]
    },
    {
      "cell_type": "markdown",
      "metadata": {
        "id": "fOyVLWJSv2dV"
      },
      "source": [
        "## Compute the median of the flattened NumPy array"
      ]
    },
    {
      "cell_type": "code",
      "execution_count": 95,
      "metadata": {
        "colab": {
          "base_uri": "https://localhost:8080/"
        },
        "id": "8o-oKLefv5kE",
        "outputId": "5f300ea9-54e1-46dd-f117-b3afe80f86ee"
      },
      "outputs": [
        {
          "name": "stdout",
          "output_type": "stream",
          "text": [
            "Array inicial de exemplo: \n",
            " [[1 2]\n",
            " [3 4]]\n",
            "\n",
            "Mediana deste array:  5.5\n"
          ]
        }
      ],
      "source": [
        "array = np.array([1, 2, 3, 4, 5, 6, 7, 8, 9, 10])\n",
        "print(\"Array inicial de exemplo: \\n\", array1)\n",
        "\n",
        "print(\"\\nMediana deste array: \", np.median(array))"
      ]
    },
    {
      "cell_type": "markdown",
      "metadata": {
        "id": "kZMrtMwIrN5J"
      },
      "source": [
        "## Find Mean of a List of Numpy Array"
      ]
    },
    {
      "cell_type": "code",
      "execution_count": 96,
      "metadata": {
        "colab": {
          "base_uri": "https://localhost:8080/"
        },
        "id": "CFfHI4uSrQNA",
        "outputId": "1c5d07b3-167a-4550-f6e5-2ce3d2455781"
      },
      "outputs": [
        {
          "name": "stdout",
          "output_type": "stream",
          "text": [
            "3 Array tomados como exemplo: \n",
            " Array 0\n",
            " [0.71743705 0.03688265 0.82507534 0.00843987 0.59423183 0.61318665\n",
            " 0.47044316 0.88013964 0.90645607] \n",
            "\n",
            "Array 1\n",
            " [0.88003181 0.16485763 0.49132303 0.53269686 0.47431955 0.80240111\n",
            " 0.66436566 0.36476081 0.19282818] \n",
            "\n",
            "Array 2\n",
            " [0.23191694 0.61956891 0.30954284 0.98844912 0.14784171 0.448408\n",
            " 0.19799033 0.44943899 0.11770578]\n",
            "\n",
            "Medias de cada array em sequencia: \n",
            " [0.561365808123222, 0.5075094045958044, 0.39009584622158744]\n"
          ]
        }
      ],
      "source": [
        "arrays = [np.random.rand(9) for i in range(3)]\n",
        "print(\"3 Array tomados como exemplo: \\n\", \"Array 0\\n\", arrays[0], \"\\n\\nArray 1\\n\", arrays[1], \"\\n\\nArray 2\\n\", arrays[2])\n",
        "\n",
        "print(\"\\nMedias de cada array em sequencia: \\n\", [np.mean(i) for i in arrays])"
      ]
    },
    {
      "cell_type": "markdown",
      "metadata": {
        "id": "wRIdIqkawzND"
      },
      "source": [
        "## Calculate the mean of array ignoring the NaN value"
      ]
    },
    {
      "cell_type": "code",
      "execution_count": 97,
      "metadata": {
        "colab": {
          "base_uri": "https://localhost:8080/"
        },
        "id": "G2aGxur9w0Hz",
        "outputId": "22f6c7dd-8c06-4268-f523-d048f835c2bd"
      },
      "outputs": [
        {
          "name": "stdout",
          "output_type": "stream",
          "text": [
            "Array inicial de exemplo: \n",
            " [ 1. nan  3.  4. nan  6.  7. nan  9. 10.]\n",
            "\n",
            "Media do array ignorando valores NaN:  5.714285714285714\n"
          ]
        }
      ],
      "source": [
        "array = np.array([1, np.nan, 3, 4, np.nan, 6, 7, np.nan, 9, 10]) \n",
        "print(\"Array inicial de exemplo: \\n\", array)\n",
        "\n",
        "print(\"\\nMedia do array ignorando valores NaN: \", np.nanmean(array))"
      ]
    },
    {
      "cell_type": "markdown",
      "metadata": {
        "id": "gMh5Ua1g2OEV"
      },
      "source": [
        "## Get the mean value from given matrix"
      ]
    },
    {
      "cell_type": "code",
      "execution_count": 98,
      "metadata": {
        "colab": {
          "base_uri": "https://localhost:8080/"
        },
        "id": "RbJ5voKt2W5I",
        "outputId": "3f776675-9120-4b56-8fe1-a34cf661abb9"
      },
      "outputs": [
        {
          "name": "stdout",
          "output_type": "stream",
          "text": [
            "Matriz inicial de exemplo: \n",
            " [[1 2 3]\n",
            " [4 5 6]\n",
            " [7 8 9]]\n",
            "\n",
            "Media da matriz:  5.0\n"
          ]
        }
      ],
      "source": [
        "matrix = np.matrix([[1,2,3], [4,5,6], [7,8,9]])\n",
        "print(\"Matriz inicial de exemplo: \\n\", matrix)\n",
        "\n",
        "print(\"\\nMedia da matriz: \", matrix.mean())"
      ]
    },
    {
      "cell_type": "markdown",
      "metadata": {
        "id": "wMU452mn2u8P"
      },
      "source": [
        "## Compute the variance of the NumPy array"
      ]
    },
    {
      "cell_type": "code",
      "execution_count": 99,
      "metadata": {
        "colab": {
          "base_uri": "https://localhost:8080/"
        },
        "id": "pIIrcw5d2y9u",
        "outputId": "d64ef12b-677f-40db-8688-5469afe8e6c7"
      },
      "outputs": [
        {
          "name": "stdout",
          "output_type": "stream",
          "text": [
            "Array inicial de exemplo: \n",
            " [ 1  5  2  8 12 78 15 38]\n",
            "\n",
            "variancia:  603.859375\n"
          ]
        }
      ],
      "source": [
        "array = np.array([1, 5, 2, 8, 12, 78, 15, 38])\n",
        "print(\"Array inicial de exemplo: \\n\", array)\n",
        "\n",
        "print(\"\\nvariancia: \", np.var(array))"
      ]
    },
    {
      "cell_type": "markdown",
      "metadata": {
        "id": "sijzDoGS3eNi"
      },
      "source": [
        "## Compute the standard deviation of the NumPy array"
      ]
    },
    {
      "cell_type": "code",
      "execution_count": 100,
      "metadata": {
        "colab": {
          "base_uri": "https://localhost:8080/"
        },
        "id": "57vGnSMp3hZL",
        "outputId": "d1bce0a9-1704-48aa-bf5d-4c8d42a5592d"
      },
      "outputs": [
        {
          "name": "stdout",
          "output_type": "stream",
          "text": [
            "Array inicial de exemplo: \n",
            " [ 1  5  2  8 12 78 15 38]\n",
            "\n",
            "Desvio padrão:  24.57355031329417\n"
          ]
        }
      ],
      "source": [
        "array = np.array([1, 5, 2, 8, 12, 78, 15, 38])\n",
        "print(\"Array inicial de exemplo: \\n\", array)\n",
        "\n",
        "print(\"\\nDesvio padrão: \", np.std(array))"
      ]
    },
    {
      "cell_type": "markdown",
      "metadata": {
        "id": "pJfUEliy4PMv"
      },
      "source": [
        "## Compute pearson product-moment correlation coefficients of two given NumPy arrays"
      ]
    },
    {
      "cell_type": "code",
      "execution_count": 101,
      "metadata": {
        "colab": {
          "base_uri": "https://localhost:8080/"
        },
        "id": "zgNGo7RN4T7I",
        "outputId": "2d544e6c-f3e6-454c-b9e6-b9b71b68257c"
      },
      "outputs": [
        {
          "name": "stdout",
          "output_type": "stream",
          "text": [
            "Array1 inicial de exemplo: \n",
            " [1 2 3 4 5]\n",
            "\n",
            "Array2 inicial de exemplo: \n",
            " [21 27 28 29 30]\n",
            "\n",
            "Resultado: \n",
            " [[1.         0.89442719]\n",
            " [0.89442719 1.        ]]\n"
          ]
        }
      ],
      "source": [
        "array1 = np.array([1, 2, 3, 4, 5])\n",
        "print(\"Array1 inicial de exemplo: \\n\", array1)\n",
        "array2 = np.array([21, 27, 28, 29, 30])\n",
        "print(\"\\nArray2 inicial de exemplo: \\n\", array2)\n",
        "  \n",
        "print(\"\\nResultado: \\n\", np.corrcoef(array1, array2))"
      ]
    },
    {
      "cell_type": "markdown",
      "metadata": {
        "id": "c2UHcMGj5EnV"
      },
      "source": [
        "## Calculate the mean across dimension in a 2D NumPy array"
      ]
    },
    {
      "cell_type": "code",
      "execution_count": 102,
      "metadata": {
        "colab": {
          "base_uri": "https://localhost:8080/"
        },
        "id": "Hgbj6-Nt5Gp0",
        "outputId": "1395aef7-5156-4f54-ef2d-f8cca8ea1ca4"
      },
      "outputs": [
        {
          "name": "stdout",
          "output_type": "stream",
          "text": [
            "Array inicial de exemplo: \n",
            " [[1 2 3]\n",
            " [4 5 6]\n",
            " [7 8 9]]\n",
            "\n",
            "Medias das linhas em sequencia de baixo pra cima:  [2. 5. 8.]\n",
            "\n",
            "Medias das colunas em sequencia da esquerda pra direita:  [4. 5. 6.]\n"
          ]
        }
      ],
      "source": [
        "array = np.array([[1,2,3], [4,5,6], [7,8,9]])\n",
        "print(\"Array inicial de exemplo: \\n\", array)\n",
        "\n",
        "print(\"\\nMedias das linhas em sequencia de baixo pra cima: \", np.mean(array, axis=1))\n",
        "print(\"\\nMedias das colunas em sequencia da esquerda pra direita: \", np.mean(array, axis=0))"
      ]
    },
    {
      "cell_type": "markdown",
      "metadata": {
        "id": "ui1ldAAg6DU3"
      },
      "source": [
        "## Calculate the average, variance and standard deviation in Python using NumPy"
      ]
    },
    {
      "cell_type": "code",
      "execution_count": 103,
      "metadata": {
        "colab": {
          "base_uri": "https://localhost:8080/"
        },
        "id": "OeUj_TmE6E1_",
        "outputId": "9fbb99cb-1d11-462c-f3ba-edc7e129b3ce"
      },
      "outputs": [
        {
          "name": "stdout",
          "output_type": "stream",
          "text": [
            "Array inicial de exemplo: \n",
            " [ 1  2  3  4  5  6  7  8  9 10]\n",
            "\n",
            "average:  5.5\n",
            "\n",
            "variance:  8.25\n",
            "\n",
            "standart deviation:  2.8722813232690143\n"
          ]
        }
      ],
      "source": [
        "array = np.array([1, 2, 3, 4, 5, 6, 7, 8, 9, 10])\n",
        "print(\"Array inicial de exemplo: \\n\", array)\n",
        "#average\n",
        "print(\"\\naverage: \", np.average(array))\n",
        "#variance\n",
        "print(\"\\nvariance: \", np.var(array))\n",
        "#standart deviation\n",
        "print(\"\\nstandart deviation: \", np.std(array))"
      ]
    },
    {
      "cell_type": "markdown",
      "metadata": {
        "id": "rfhhzQFr62kK"
      },
      "source": [
        "## Describe a NumPy Array in Python"
      ]
    },
    {
      "cell_type": "code",
      "execution_count": 104,
      "metadata": {
        "colab": {
          "base_uri": "https://localhost:8080/"
        },
        "id": "deOAoY8Z64oC",
        "outputId": "c4242564-7dab-459c-eddc-2cdb23e0f060"
      },
      "outputs": [
        {
          "name": "stdout",
          "output_type": "stream",
          "text": [
            "[ 1  2  3  4  5  6  7  8  9 10]\n"
          ]
        }
      ],
      "source": [
        "print(np.array([1,2,3,4,5,6,7,8,9,10]))"
      ]
    },
    {
      "cell_type": "markdown",
      "metadata": {
        "id": "ang-sG_z7JfL"
      },
      "source": [
        "# Questions on Polynomial"
      ]
    },
    {
      "cell_type": "markdown",
      "metadata": {
        "id": "Otew7eVk7Mr4"
      },
      "source": [
        "## Define a polynomial function"
      ]
    },
    {
      "cell_type": "code",
      "execution_count": 105,
      "metadata": {
        "colab": {
          "base_uri": "https://localhost:8080/"
        },
        "id": "AeUVXWqe7Nyq",
        "outputId": "d94d30a1-07ad-4bab-f397-826e67b7fdb7"
      },
      "outputs": [
        {
          "name": "stdout",
          "output_type": "stream",
          "text": [
            "Polinomio:     3     2\n",
            "2 x + 4 x + 3 x + 1\n",
            "\n",
            "Para x = 3, temos: \n",
            "2*3^3 + 4*3^2 + 3*3^1 + 1 =  100\n",
            "\n",
            "Raízes: =  [-1. +0.j  -0.5+0.5j -0.5-0.5j]\n",
            "\n",
            "Coeficientes =  [2 4 3 1]\n",
            "\n",
            "P1 Ordem =  3\n"
          ]
        }
      ],
      "source": [
        "p = np.poly1d([2, 4, 3, 1])\n",
        "print(\"Polinomio: \", p)\n",
        "print(\"\\nPara x = 3, temos: \\n2*3^3 + 4*3^2 + 3*3^1 + 1 = \", p(3))\n",
        "print(\"\\nRaízes: = \", p.roots)\n",
        "print(\"\\nCoeficientes = \", p.c)\n",
        "print(\"\\nP1 Ordem = \", p.o)"
      ]
    },
    {
      "cell_type": "markdown",
      "metadata": {
        "id": "6okO8I-q5PQg"
      },
      "source": [
        "## How to add one polynomial to another using NumPy in Python?"
      ]
    },
    {
      "cell_type": "code",
      "execution_count": 106,
      "metadata": {
        "colab": {
          "base_uri": "https://localhost:8080/"
        },
        "id": "67fxhGru5ReH",
        "outputId": "912b6d4f-9a11-4af9-e903-937bbf706751"
      },
      "outputs": [
        {
          "name": "stdout",
          "output_type": "stream",
          "text": [
            "Polinomio1:     3     2\n",
            "1 x + 2 x + 1 x\n",
            "\n",
            "Polinomio2:     2\n",
            "1 x + 4 x + 5\n",
            "\n",
            "Adicionando:\n"
          ]
        },
        {
          "data": {
            "text/plain": [
              "poly1d([1, 3, 5, 5])"
            ]
          },
          "execution_count": 106,
          "metadata": {},
          "output_type": "execute_result"
        }
      ],
      "source": [
        "p1 = np.poly1d([1, 2, 1, 0])\n",
        "print(\"Polinomio1: \", p1)\n",
        "p2 = np.poly1d([1, 4, 5])\n",
        "print(\"\\nPolinomio2: \", p2)\n",
        "\n",
        "print(\"\\nAdicionando:\", )\n",
        "np.polyadd(p1, p2)\n"
      ]
    },
    {
      "cell_type": "markdown",
      "metadata": {
        "id": "5R_azQ7T7AYY"
      },
      "source": [
        "## How to subtract one polynomial to another using NumPy in Python?"
      ]
    },
    {
      "cell_type": "code",
      "execution_count": 107,
      "metadata": {
        "colab": {
          "base_uri": "https://localhost:8080/"
        },
        "id": "EmTMzQfI7Cdx",
        "outputId": "ad80c023-0a8e-4ace-bbb5-e61f0b6a6533"
      },
      "outputs": [
        {
          "name": "stdout",
          "output_type": "stream",
          "text": [
            "Polinomio1:     3     2\n",
            "1 x + 2 x + 1 x\n",
            "\n",
            "Polinomio2:     2\n",
            "1 x + 4 x + 5\n",
            "\n",
            "Subtraindo:\n"
          ]
        },
        {
          "data": {
            "text/plain": [
              "poly1d([ 1,  1, -3, -5])"
            ]
          },
          "execution_count": 107,
          "metadata": {},
          "output_type": "execute_result"
        }
      ],
      "source": [
        "p1 = np.poly1d([1, 2, 1, 0])\n",
        "print(\"Polinomio1: \", p1)\n",
        "p2 = np.poly1d([1, 4, 5])\n",
        "print(\"\\nPolinomio2: \", p2)\n",
        "\n",
        "print(\"\\nSubtraindo:\", )\n",
        "np.polysub(p1, p2)\n"
      ]
    },
    {
      "cell_type": "markdown",
      "metadata": {
        "id": "KhHFqgsF7ToD"
      },
      "source": [
        "## How to multiply a polynomial to another using NumPy in Python?"
      ]
    },
    {
      "cell_type": "code",
      "execution_count": 108,
      "metadata": {
        "colab": {
          "base_uri": "https://localhost:8080/"
        },
        "id": "WonPfbsS7V00",
        "outputId": "4dce95ae-d74a-40d9-8abc-ad7232d6e911"
      },
      "outputs": [
        {
          "name": "stdout",
          "output_type": "stream",
          "text": [
            "Polinomio1:     3     2\n",
            "1 x + 2 x + 1 x\n",
            "\n",
            "Polinomio2:     2\n",
            "1 x + 4 x + 5\n",
            "\n",
            "Multiplicando:\n"
          ]
        },
        {
          "data": {
            "text/plain": [
              "poly1d([ 1,  6, 14, 14,  5,  0])"
            ]
          },
          "execution_count": 108,
          "metadata": {},
          "output_type": "execute_result"
        }
      ],
      "source": [
        "p1 = np.poly1d([1, 2, 1, 0])\n",
        "print(\"Polinomio1: \", p1)\n",
        "p2 = np.poly1d([1, 4, 5])\n",
        "print(\"\\nPolinomio2: \", p2)\n",
        "\n",
        "print(\"\\nMultiplicando:\", )\n",
        "np.polymul(p1, p2)"
      ]
    },
    {
      "cell_type": "markdown",
      "metadata": {
        "id": "p8jkqrJn7kRM"
      },
      "source": [
        "## How to divide a polynomial to another using NumPy in Python?"
      ]
    },
    {
      "cell_type": "code",
      "execution_count": 109,
      "metadata": {
        "colab": {
          "base_uri": "https://localhost:8080/"
        },
        "id": "wB7pexwZ7mnF",
        "outputId": "e21a4a5a-1f63-4a93-eb18-39d2eb9e2682"
      },
      "outputs": [
        {
          "name": "stdout",
          "output_type": "stream",
          "text": [
            "Polinomio1:     3     2\n",
            "1 x + 2 x + 1 x\n",
            "\n",
            "Polinomio2:     2\n",
            "1 x + 4 x + 5\n",
            "\n",
            "Dividindo:\n"
          ]
        },
        {
          "data": {
            "text/plain": [
              "(poly1d([ 1., -2.]), poly1d([ 4., 10.]))"
            ]
          },
          "execution_count": 109,
          "metadata": {},
          "output_type": "execute_result"
        }
      ],
      "source": [
        "p1 = np.poly1d([1, 2, 1, 0])\n",
        "print(\"Polinomio1: \", p1)\n",
        "p2 = np.poly1d([1, 4, 5])\n",
        "print(\"\\nPolinomio2: \", p2)\n",
        "\n",
        "print(\"\\nDividindo:\", )\n",
        "np.polydiv(p1, p2)"
      ]
    },
    {
      "cell_type": "markdown",
      "metadata": {
        "id": "_gBGfEUo7ycK"
      },
      "source": [
        "## Find the roots of the polynomials using NumPy"
      ]
    },
    {
      "cell_type": "code",
      "execution_count": 110,
      "metadata": {
        "colab": {
          "base_uri": "https://localhost:8080/"
        },
        "id": "Cs4-GsEn708M",
        "outputId": "9bbb71a5-8ba6-459e-d7d5-5144cc7604c8"
      },
      "outputs": [
        {
          "name": "stdout",
          "output_type": "stream",
          "text": [
            "Polinomio:     3     2\n",
            "1 x + 2 x + 1 x\n",
            "\n",
            "Raízes: =  [-1. -1.  0.]\n"
          ]
        }
      ],
      "source": [
        "p = np.poly1d([1, 2, 1, 0])\n",
        "print(\"Polinomio: \", p)\n",
        "print(\"\\nRaízes: = \", p.roots)"
      ]
    },
    {
      "cell_type": "markdown",
      "metadata": {
        "id": "swcJt4yJ8Z9K"
      },
      "source": [
        "## Evaluate a 2-D polynomial series on the Cartesian product"
      ]
    },
    {
      "cell_type": "code",
      "execution_count": 111,
      "metadata": {
        "colab": {
          "base_uri": "https://localhost:8080/"
        },
        "id": "0cJDde0D8cOr",
        "outputId": "e8ff19a0-9c2f-4879-ec98-bb9c4c30bc5e"
      },
      "outputs": [
        {
          "name": "stdout",
          "output_type": "stream",
          "text": [
            "Resultado:\n",
            " [[4007. 4899.]\n",
            " [4542. 5553.]]\n"
          ]
        }
      ],
      "source": [
        "from numpy.polynomial.polynomial import polygrid2d\n",
        "c = np.array([[1, 2, 3], [4, 5, 6]]) \n",
        "  \n",
        "ans = polygrid2d([7, 8], [9, 10], c)\n",
        "print(\"Resultado:\\n\", ans)"
      ]
    },
    {
      "cell_type": "markdown",
      "metadata": {
        "id": "El_fokgG85ld"
      },
      "source": [
        "## Evaluate a 3-D polynomial series on the Cartesian product"
      ]
    },
    {
      "cell_type": "code",
      "execution_count": 112,
      "metadata": {
        "colab": {
          "base_uri": "https://localhost:8080/"
        },
        "id": "UIyypQxD87mi",
        "outputId": "8e701cb7-2278-4661-beec-1dd9d00af047"
      },
      "outputs": [
        {
          "name": "stdout",
          "output_type": "stream",
          "text": [
            "Resultado:\n",
            " [[662393. 718647.]\n",
            " [809193. 877914.]]\n"
          ]
        }
      ],
      "source": [
        "from numpy.polynomial.polynomial import polygrid3d\n",
        "  \n",
        "# Input polynomial series coefficients\n",
        "c = np.array([[1, 2, 3], [4, 5, 6], [7, 8, 9]]) \n",
        "  \n",
        "# using np.polygrid3d() method \n",
        "ans = polygrid3d([7, 8], [9, 10], [11, 12], c)\n",
        "print(\"Resultado:\\n\", ans)"
      ]
    },
    {
      "cell_type": "markdown",
      "metadata": {
        "id": "by-MiMrM9Na9"
      },
      "source": [
        "# Questions on NumPy Strings"
      ]
    },
    {
      "cell_type": "markdown",
      "metadata": {
        "id": "AUD4PkYI9Qpo"
      },
      "source": [
        "## Repeat all the elements of a NumPy array of strings"
      ]
    },
    {
      "cell_type": "code",
      "execution_count": 113,
      "metadata": {
        "colab": {
          "base_uri": "https://localhost:8080/"
        },
        "id": "sEQaQwe_9S4h",
        "outputId": "5a034807-e13d-469d-84ee-84b087063226"
      },
      "outputs": [
        {
          "name": "stdout",
          "output_type": "stream",
          "text": [
            "Array usado no example:  ['Digital' 'Image' 'Processing']\n",
            "\n",
            "Array com repetições:  ['DigitalDigital' 'ImageImage' 'ProcessingProcessing']\n"
          ]
        }
      ],
      "source": [
        "array = np.array(['Digital','Image','Processing'], dtype = str)\n",
        "print(\"Array usado no example: \", array)\n",
        "\n",
        "print(\"\\nArray com repetições: \", np.char.multiply(array, 2))"
      ]
    },
    {
      "cell_type": "markdown",
      "metadata": {
        "id": "rmWUqa9J-lMn"
      },
      "source": [
        "## How to split the element of a given NumPy array with spaces?"
      ]
    },
    {
      "cell_type": "code",
      "execution_count": 114,
      "metadata": {
        "colab": {
          "base_uri": "https://localhost:8080/"
        },
        "id": "Vz6_UKJz-nxm",
        "outputId": "72e72b66-408e-4e88-9a83-0062372eb521"
      },
      "outputs": [
        {
          "name": "stdout",
          "output_type": "stream",
          "text": [
            "Array usado no example:  ['Digital Image Processing']\n",
            "\n",
            "Array resultado:  [list(['Digital', 'Image', 'Processing'])]\n"
          ]
        }
      ],
      "source": [
        "array = np.array(['Digital Image Processing'], dtype = str)\n",
        "print(\"Array usado no example: \", array)\n",
        "\n",
        "print(\"\\nArray resultado: \", np.char.split(array))"
      ]
    },
    {
      "cell_type": "markdown",
      "metadata": {
        "id": "HPL7rQHQBWWt"
      },
      "source": [
        "## How to insert a space between characters of all the elements of a given NumPy array?"
      ]
    },
    {
      "cell_type": "code",
      "execution_count": 115,
      "metadata": {
        "colab": {
          "base_uri": "https://localhost:8080/"
        },
        "id": "bHYF_5nYBZBn",
        "outputId": "f9403417-025c-4b7c-fcb5-5b23dcdc68c2"
      },
      "outputs": [
        {
          "name": "stdout",
          "output_type": "stream",
          "text": [
            "Array usado no example:  ['Digital Image Processing']\n",
            "\n",
            "Array resultado:  ['D i g i t a l   I m a g e   P r o c e s s i n g']\n"
          ]
        }
      ],
      "source": [
        "array = np.array(['Digital Image Processing'], dtype = str)\n",
        "print(\"Array usado no example: \", array)\n",
        "\n",
        "print(\"\\nArray resultado: \", np.char.join(\" \", array))"
      ]
    },
    {
      "cell_type": "markdown",
      "metadata": {
        "id": "RmMVR-YuBqQa"
      },
      "source": [
        "## Find the length of each string element in the Numpy array"
      ]
    },
    {
      "cell_type": "code",
      "execution_count": 116,
      "metadata": {
        "colab": {
          "base_uri": "https://localhost:8080/"
        },
        "id": "OI9QQ1DuBsjN",
        "outputId": "3b503b0a-1495-48ff-c6fb-a25d63ba508c"
      },
      "outputs": [
        {
          "name": "stdout",
          "output_type": "stream",
          "text": [
            "Array usado no example:  ['Digital' 'Image' 'Processing']\n",
            "\n",
            "Comprimento de cada elemento:  [ 7  5 10]\n"
          ]
        }
      ],
      "source": [
        "array = np.array(['Digital', 'Image', 'Processing'], dtype = str)\n",
        "print(\"Array usado no example: \", array)\n",
        "len_checker = np.vectorize(len)\n",
        "print(\"\\nComprimento de cada elemento: \", len_checker(array))"
      ]
    },
    {
      "cell_type": "markdown",
      "metadata": {
        "id": "cl7cs9BiCTAc"
      },
      "source": [
        "## Swap the case of an array of string"
      ]
    },
    {
      "cell_type": "code",
      "execution_count": 117,
      "metadata": {
        "colab": {
          "base_uri": "https://localhost:8080/"
        },
        "id": "uaiY1mLMCVdY",
        "outputId": "c5f82b65-08e1-4095-b148-910c44f434a2"
      },
      "outputs": [
        {
          "name": "stdout",
          "output_type": "stream",
          "text": [
            "Array usado no example:  ['Digital Image Processing']\n",
            "\n",
            "Array resultado:  ['dIGITAL iMAGE pROCESSING']\n"
          ]
        }
      ],
      "source": [
        "array = np.array(['Digital Image Processing'], dtype = str)\n",
        "print(\"Array usado no example: \", array)\n",
        "\n",
        "print(\"\\nArray resultado: \", np.char.swapcase(array))"
      ]
    },
    {
      "cell_type": "markdown",
      "metadata": {
        "id": "gvDHYP_qDa-w"
      },
      "source": [
        "## Change the case to uppercase of elements of an array"
      ]
    },
    {
      "cell_type": "code",
      "execution_count": 118,
      "metadata": {
        "colab": {
          "base_uri": "https://localhost:8080/"
        },
        "id": "GxnrETq_DdMm",
        "outputId": "c57a9f9a-cc0b-4f86-a338-fefecc1f3273"
      },
      "outputs": [
        {
          "name": "stdout",
          "output_type": "stream",
          "text": [
            "Array usado no example:  ['Digital Image Processing']\n",
            "\n",
            "Array resultado:  ['DIGITAL IMAGE PROCESSING']\n"
          ]
        }
      ],
      "source": [
        "array = np.array(['Digital Image Processing'], dtype = str)\n",
        "print(\"Array usado no example: \", array)\n",
        "\n",
        "print(\"\\nArray resultado: \", np.char.upper(array))"
      ]
    },
    {
      "cell_type": "markdown",
      "metadata": {
        "id": "7NytQSIXDlf-"
      },
      "source": [
        "## Change the case to lowercase of elements of an array"
      ]
    },
    {
      "cell_type": "code",
      "execution_count": 119,
      "metadata": {
        "colab": {
          "base_uri": "https://localhost:8080/"
        },
        "id": "YpEUImlqDnL_",
        "outputId": "5ed80f83-9613-4a66-f35e-b662023f8aad"
      },
      "outputs": [
        {
          "name": "stdout",
          "output_type": "stream",
          "text": [
            "Array usado no example:  ['Digital Image Processing']\n",
            "\n",
            "Array resultado:  ['digital image processing']\n"
          ]
        }
      ],
      "source": [
        "array = np.array(['Digital Image Processing'], dtype = str)\n",
        "print(\"Array usado no example: \", array)\n",
        "\n",
        "print(\"\\nArray resultado: \", np.char.lower(array))"
      ]
    },
    {
      "cell_type": "markdown",
      "metadata": {
        "id": "ecmdiJaJDtF1"
      },
      "source": [
        "## Join String by a seperator"
      ]
    },
    {
      "cell_type": "code",
      "execution_count": 120,
      "metadata": {
        "colab": {
          "base_uri": "https://localhost:8080/"
        },
        "id": "VuZmPu1gDvcj",
        "outputId": "57b53645-c06a-459b-9c35-035e3d1967cd"
      },
      "outputs": [
        {
          "name": "stdout",
          "output_type": "stream",
          "text": [
            "Array usado no example:  ['Digital Image Processing']\n",
            "\n",
            "Array resultado:  ['D-i-g-i-t-a-l- -I-m-a-g-e- -P-r-o-c-e-s-s-i-n-g']\n"
          ]
        }
      ],
      "source": [
        "array = np.array(['Digital Image Processing'], dtype = str)\n",
        "print(\"Array usado no example: \", array)\n",
        "\n",
        "print(\"\\nArray resultado: \", np.char.join('-', array))"
      ]
    },
    {
      "cell_type": "markdown",
      "metadata": {
        "id": "zot96MHKD7PC"
      },
      "source": [
        "## Check if two same shaped string arrayss one by one"
      ]
    },
    {
      "cell_type": "code",
      "execution_count": 121,
      "metadata": {
        "colab": {
          "base_uri": "https://localhost:8080/"
        },
        "id": "x_HBNRimD95T",
        "outputId": "e0842ee9-7dac-4948-de70-98de66d9a8dc"
      },
      "outputs": [
        {
          "name": "stdout",
          "output_type": "stream",
          "text": [
            "Array1 usado no example:  ['Digital' 'Image' 'Processing']\n",
            "\n",
            "Array2 usado no example:  ['Processamento' 'Image' 'de Imagens']\n",
            "\n",
            "Resultado ao comparar posição por posição:  [False  True False]\n"
          ]
        }
      ],
      "source": [
        "array1 = np.array(['Digital','Image','Processing'], dtype = str) \n",
        "print(\"Array1 usado no example: \", array1)\n",
        "array2 = np.array(['Processamento','Image','de Imagens'], dtype = str) \n",
        "print(\"\\nArray2 usado no example: \", array2)\n",
        "print(\"\\nResultado ao comparar posição por posição: \", np.char.equal(array1, array2))"
      ]
    },
    {
      "cell_type": "markdown",
      "metadata": {
        "id": "uKeonz7bEubt"
      },
      "source": [
        "## Count the number of substrings in an array"
      ]
    },
    {
      "cell_type": "code",
      "execution_count": 122,
      "metadata": {
        "colab": {
          "base_uri": "https://localhost:8080/"
        },
        "id": "pZIAhAFoExBS",
        "outputId": "b95c7a9e-ac6a-438a-d8ec-20261c1246bc"
      },
      "outputs": [
        {
          "name": "stdout",
          "output_type": "stream",
          "text": [
            "Array1 usado no example:  ['Digital' 'Image' 'Processing']\n",
            "\n",
            "Quantidade de 'i' em cada elemento:  [2 0 1]\n"
          ]
        }
      ],
      "source": [
        "array = np.array(['Digital','Image','Processing'], dtype = str) \n",
        "print(\"Array1 usado no example: \", array1)\n",
        "print(\"\\nQuantidade de 'i' em cada elemento: \", np.char.count(array, sub='i'))"
      ]
    },
    {
      "cell_type": "markdown",
      "metadata": {
        "id": "YS1xPQiRFe7U"
      },
      "source": [
        "## Find the lowest index of the substring in an array"
      ]
    },
    {
      "cell_type": "code",
      "execution_count": 123,
      "metadata": {
        "colab": {
          "base_uri": "https://localhost:8080/"
        },
        "id": "TbsE-zM1FyNk",
        "outputId": "f766bd72-0859-43c2-ccd7-484cb263efc3"
      },
      "outputs": [
        {
          "name": "stdout",
          "output_type": "stream",
          "text": [
            "Array1 usado no example:  ['Digital' 'Image' 'Processing']\n",
            "\n",
            "Indice do primeiro 'i' em cada element0:  [ 1 -1  7]\n"
          ]
        }
      ],
      "source": [
        "array = np.array(['Digital','Image','Processing'], dtype = str) \n",
        "print(\"Array1 usado no example: \", array1)\n",
        "\n",
        "print(\"\\nIndice do primeiro 'i' em cada element0: \", np.char.find(array,'i'))"
      ]
    },
    {
      "cell_type": "markdown",
      "metadata": {
        "id": "PKXh48y0GY9i"
      },
      "source": [
        "## Get the boolean array when values end with a particular character"
      ]
    },
    {
      "cell_type": "code",
      "execution_count": 124,
      "metadata": {
        "colab": {
          "base_uri": "https://localhost:8080/"
        },
        "id": "sEjO45GIGbaz",
        "outputId": "0fa564dd-6686-40c2-c8c2-4a85c7c446ea"
      },
      "outputs": [
        {
          "name": "stdout",
          "output_type": "stream",
          "text": [
            "Array1 usado no example:  ['Digital' 'Image' 'Processing']\n",
            "\n",
            "Resultado para terminados em 'g':  [False False  True]\n"
          ]
        }
      ],
      "source": [
        "array = np.array(['Digital','Image','Processing'], dtype = str) \n",
        "print(\"Array1 usado no example: \", array1)\n",
        "\n",
        "print(\"\\nResultado para terminados em 'g': \", np.char.endswith(array,'g'))"
      ]
    },
    {
      "cell_type": "markdown",
      "metadata": {
        "id": "cgRJ1d1FGsQQ"
      },
      "source": [
        "## Different ways to convert a Python dictionary to a NumPy array"
      ]
    },
    {
      "cell_type": "code",
      "execution_count": 125,
      "metadata": {
        "colab": {
          "base_uri": "https://localhost:8080/"
        },
        "id": "-4FsMM7iG3NN",
        "outputId": "4ccac6c2-4a04-4031-da6d-5f8d190d1faf"
      },
      "outputs": [
        {
          "name": "stdout",
          "output_type": "stream",
          "text": [
            "Forma inicial do dicionario:  {1: 'Digital', 2: 'Image', 3: 'Processing'}\n",
            "\n",
            "Resultado após conversão para NumPy array:  dict_items([(1, 'Digital'), (2, 'Image'), (3, 'Processing')])\n"
          ]
        }
      ],
      "source": [
        "dict = {1:'Digital',\n",
        "        2:'Image',\n",
        "        3:'Processing'}\n",
        "print(\"Forma inicial do dicionario: \", dict)\n",
        "aux = dict.items()\n",
        "array = np.array(aux)\n",
        "print(\"\\nResultado após conversão para NumPy array: \", array)  "
      ]
    },
    {
      "cell_type": "markdown",
      "metadata": {
        "id": "B4QisvS3HkR4"
      },
      "source": [
        "## How to convert a list and tuple into NumPy arrays?"
      ]
    },
    {
      "cell_type": "code",
      "execution_count": 126,
      "metadata": {
        "colab": {
          "base_uri": "https://localhost:8080/"
        },
        "id": "2G8cp-pYHmg3",
        "outputId": "256fd1f7-4b0c-4b2c-e225-40f01e5e08c8"
      },
      "outputs": [
        {
          "name": "stdout",
          "output_type": "stream",
          "text": [
            "Forma inicial da lista:  [1, 2, 3, 4, 5]\n",
            "\n",
            "Forma inicial da tupla:  ([6, 7, 8, 9, 10], [11, 12, 13, 14, 15])\n",
            "\n",
            "Resultado após conversão da lista para NumPy array:  [1 2 3 4 5]\n",
            "\n",
            "Resultado após conversão da tupla para NumPy array:  [[ 6  7  8  9 10]\n",
            " [11 12 13 14 15]]\n"
          ]
        }
      ],
      "source": [
        "list_ = [1,2,3,4,5]\n",
        "print(\"Forma inicial da lista: \", list_)\n",
        "tuple_ =  ([6,7,8,9,10],[11,12,13,14,15])\n",
        "print(\"\\nForma inicial da tupla: \", tuple_)\n",
        "array1 = np.asarray(list_)\n",
        "print(\"\\nResultado após conversão da lista para NumPy array: \", array1)  \n",
        "array2 = np.asarray(tuple_)\n",
        "print(\"\\nResultado após conversão da tupla para NumPy array: \", array2)  "
      ]
    },
    {
      "cell_type": "markdown",
      "metadata": {
        "id": "cRyUp-vaIfBX"
      },
      "source": [
        "## Ways to convert array of strings to array of floats"
      ]
    },
    {
      "cell_type": "code",
      "execution_count": 127,
      "metadata": {
        "colab": {
          "base_uri": "https://localhost:8080/"
        },
        "id": "3rOEhTDwIh0i",
        "outputId": "6fc1a184-1c38-459b-e564-b9e374d47541"
      },
      "outputs": [
        {
          "name": "stdout",
          "output_type": "stream",
          "text": [
            "Resultado:  [1.1 1.5 2.7 8.9]\n"
          ]
        }
      ],
      "source": [
        "array1 = np.array([\"1.1\", \"1.5\", \"2.7\", \"8.9\"])\n",
        " \n",
        "print (\"Resultado: \", array1.astype(np.float64))"
      ]
    },
    {
      "cell_type": "markdown",
      "metadata": {
        "id": "YNlcj4Z9JCkm"
      },
      "source": [
        "## Convert a NumPy array into a csv file"
      ]
    },
    {
      "cell_type": "code",
      "execution_count": 128,
      "metadata": {
        "id": "dwpZ5yIsJFZW"
      },
      "outputs": [],
      "source": [
        "import pandas as pd\n",
        "#o arquivo estará no ficheiro do colab\n",
        "array = np.array([[1,2,3,4,5],[6,7,8,9,10]])\n",
        "\n",
        "DF = pd.DataFrame(array) \n",
        "DF.to_csv(\"data.csv\")"
      ]
    },
    {
      "cell_type": "markdown",
      "metadata": {
        "id": "RdlINAy_JyEt"
      },
      "source": [
        "## How to Convert an image to NumPy array and save it to CSV file using Python?"
      ]
    },
    {
      "cell_type": "code",
      "execution_count": 131,
      "metadata": {
        "id": "D20Mf9m2Jyvm"
      },
      "outputs": [
        {
          "ename": "ValueError",
          "evalue": "Must pass 2-d input. shape=(730, 484, 3)",
          "output_type": "error",
          "traceback": [
            "\u001b[1;31m---------------------------------------------------------------------------\u001b[0m",
            "\u001b[1;31mValueError\u001b[0m                                Traceback (most recent call last)",
            "\u001b[1;32mc:\\Users\\darly\\PDI - Jupyter\\Atividades\\NumpyTutorial.ipynb Célula 264\u001b[0m line \u001b[0;36m7\n\u001b[0;32m      <a href='vscode-notebook-cell:/c%3A/Users/darly/PDI%20-%20Jupyter/Atividades/NumpyTutorial.ipynb#Y524sZmlsZQ%3D%3D?line=4'>5</a>\u001b[0m img \u001b[39m=\u001b[39m np\u001b[39m.\u001b[39mreshape(img, (img\u001b[39m.\u001b[39msize[\u001b[39m0\u001b[39m], img\u001b[39m.\u001b[39msize[\u001b[39m1\u001b[39m], \u001b[39m3\u001b[39m))\n\u001b[0;32m      <a href='vscode-notebook-cell:/c%3A/Users/darly/PDI%20-%20Jupyter/Atividades/NumpyTutorial.ipynb#Y524sZmlsZQ%3D%3D?line=5'>6</a>\u001b[0m image \u001b[39m=\u001b[39m  np\u001b[39m.\u001b[39masarray(img)\n\u001b[1;32m----> <a href='vscode-notebook-cell:/c%3A/Users/darly/PDI%20-%20Jupyter/Atividades/NumpyTutorial.ipynb#Y524sZmlsZQ%3D%3D?line=6'>7</a>\u001b[0m DF \u001b[39m=\u001b[39m pd\u001b[39m.\u001b[39;49mDataFrame(image) \n\u001b[0;32m      <a href='vscode-notebook-cell:/c%3A/Users/darly/PDI%20-%20Jupyter/Atividades/NumpyTutorial.ipynb#Y524sZmlsZQ%3D%3D?line=7'>8</a>\u001b[0m DF\u001b[39m.\u001b[39mto_csv(\u001b[39m\"\u001b[39m\u001b[39mdata1.csv\u001b[39m\u001b[39m\"\u001b[39m)\n",
            "File \u001b[1;32mc:\\Users\\darly\\AppData\\Local\\Programs\\Python\\Python311\\Lib\\site-packages\\pandas\\core\\frame.py:721\u001b[0m, in \u001b[0;36mDataFrame.__init__\u001b[1;34m(self, data, index, columns, dtype, copy)\u001b[0m\n\u001b[0;32m    711\u001b[0m         mgr \u001b[39m=\u001b[39m dict_to_mgr(\n\u001b[0;32m    712\u001b[0m             \u001b[39m# error: Item \"ndarray\" of \"Union[ndarray, Series, Index]\" has no\u001b[39;00m\n\u001b[0;32m    713\u001b[0m             \u001b[39m# attribute \"name\"\u001b[39;00m\n\u001b[1;32m   (...)\u001b[0m\n\u001b[0;32m    718\u001b[0m             typ\u001b[39m=\u001b[39mmanager,\n\u001b[0;32m    719\u001b[0m         )\n\u001b[0;32m    720\u001b[0m     \u001b[39melse\u001b[39;00m:\n\u001b[1;32m--> 721\u001b[0m         mgr \u001b[39m=\u001b[39m ndarray_to_mgr(\n\u001b[0;32m    722\u001b[0m             data,\n\u001b[0;32m    723\u001b[0m             index,\n\u001b[0;32m    724\u001b[0m             columns,\n\u001b[0;32m    725\u001b[0m             dtype\u001b[39m=\u001b[39;49mdtype,\n\u001b[0;32m    726\u001b[0m             copy\u001b[39m=\u001b[39;49mcopy,\n\u001b[0;32m    727\u001b[0m             typ\u001b[39m=\u001b[39;49mmanager,\n\u001b[0;32m    728\u001b[0m         )\n\u001b[0;32m    730\u001b[0m \u001b[39m# For data is list-like, or Iterable (will consume into list)\u001b[39;00m\n\u001b[0;32m    731\u001b[0m \u001b[39melif\u001b[39;00m is_list_like(data):\n",
            "File \u001b[1;32mc:\\Users\\darly\\AppData\\Local\\Programs\\Python\\Python311\\Lib\\site-packages\\pandas\\core\\internals\\construction.py:329\u001b[0m, in \u001b[0;36mndarray_to_mgr\u001b[1;34m(values, index, columns, dtype, copy, typ)\u001b[0m\n\u001b[0;32m    324\u001b[0m         values \u001b[39m=\u001b[39m values\u001b[39m.\u001b[39mreshape(\u001b[39m-\u001b[39m\u001b[39m1\u001b[39m, \u001b[39m1\u001b[39m)\n\u001b[0;32m    326\u001b[0m \u001b[39melse\u001b[39;00m:\n\u001b[0;32m    327\u001b[0m     \u001b[39m# by definition an array here\u001b[39;00m\n\u001b[0;32m    328\u001b[0m     \u001b[39m# the dtypes will be coerced to a single dtype\u001b[39;00m\n\u001b[1;32m--> 329\u001b[0m     values \u001b[39m=\u001b[39m _prep_ndarraylike(values, copy\u001b[39m=\u001b[39;49mcopy_on_sanitize)\n\u001b[0;32m    331\u001b[0m \u001b[39mif\u001b[39;00m dtype \u001b[39mis\u001b[39;00m \u001b[39mnot\u001b[39;00m \u001b[39mNone\u001b[39;00m \u001b[39mand\u001b[39;00m \u001b[39mnot\u001b[39;00m is_dtype_equal(values\u001b[39m.\u001b[39mdtype, dtype):\n\u001b[0;32m    332\u001b[0m     \u001b[39m# GH#40110 see similar check inside sanitize_array\u001b[39;00m\n\u001b[0;32m    333\u001b[0m     rcf \u001b[39m=\u001b[39m \u001b[39mnot\u001b[39;00m (is_integer_dtype(dtype) \u001b[39mand\u001b[39;00m values\u001b[39m.\u001b[39mdtype\u001b[39m.\u001b[39mkind \u001b[39m==\u001b[39m \u001b[39m\"\u001b[39m\u001b[39mf\u001b[39m\u001b[39m\"\u001b[39m)\n",
            "File \u001b[1;32mc:\\Users\\darly\\AppData\\Local\\Programs\\Python\\Python311\\Lib\\site-packages\\pandas\\core\\internals\\construction.py:583\u001b[0m, in \u001b[0;36m_prep_ndarraylike\u001b[1;34m(values, copy)\u001b[0m\n\u001b[0;32m    581\u001b[0m     values \u001b[39m=\u001b[39m values\u001b[39m.\u001b[39mreshape((values\u001b[39m.\u001b[39mshape[\u001b[39m0\u001b[39m], \u001b[39m1\u001b[39m))\n\u001b[0;32m    582\u001b[0m \u001b[39melif\u001b[39;00m values\u001b[39m.\u001b[39mndim \u001b[39m!=\u001b[39m \u001b[39m2\u001b[39m:\n\u001b[1;32m--> 583\u001b[0m     \u001b[39mraise\u001b[39;00m \u001b[39mValueError\u001b[39;00m(\u001b[39mf\u001b[39m\u001b[39m\"\u001b[39m\u001b[39mMust pass 2-d input. shape=\u001b[39m\u001b[39m{\u001b[39;00mvalues\u001b[39m.\u001b[39mshape\u001b[39m}\u001b[39;00m\u001b[39m\"\u001b[39m)\n\u001b[0;32m    585\u001b[0m \u001b[39mreturn\u001b[39;00m values\n",
            "\u001b[1;31mValueError\u001b[0m: Must pass 2-d input. shape=(730, 484, 3)"
          ]
        }
      ],
      "source": [
        "from PIL import Image\n",
        "path = '../Imagens/'\n",
        "img = Image.open(path + \"transferir.jpg\")\n",
        "#reshape to 2d array\n",
        "img = np.reshape(img, (img.height * img.width, 3))\n",
        "\n",
        "image =  np.asarray(img)\n",
        "DF = pd.DataFrame(image) \n",
        "DF.to_csv(\"data1.csv\")"
      ]
    },
    {
      "cell_type": "markdown",
      "metadata": {
        "id": "D_uoGr4QLLw7"
      },
      "source": [
        "##How to save a NumPy array to a text file?"
      ]
    },
    {
      "cell_type": "code",
      "execution_count": null,
      "metadata": {
        "colab": {
          "base_uri": "https://localhost:8080/"
        },
        "id": "XSSwiHAbLPyy",
        "outputId": "ad9f00f3-7b9f-4c4a-eb75-57b154e5e36e"
      },
      "outputs": [
        {
          "name": "stdout",
          "output_type": "stream",
          "text": [
            "Array usado no examplo:  [ 1  2  3  4  5  6  7  8  9 10]\n"
          ]
        }
      ],
      "source": [
        "array = np.array([1,2,3,4,5,6,7,8,9,10])\n",
        "#o arquivo estará no ficheiro do colab\n",
        "print(\"Array usado no examplo: \", array)\n",
        "file = open(\"file_.txt\", \"w+\")\n",
        "content = str(array)\n",
        "file.write(content)\n",
        "file.close()"
      ]
    },
    {
      "cell_type": "markdown",
      "metadata": {
        "id": "284HA7amLs-D"
      },
      "source": [
        "##Load data from a text file"
      ]
    },
    {
      "cell_type": "code",
      "execution_count": null,
      "metadata": {
        "colab": {
          "base_uri": "https://localhost:8080/"
        },
        "id": "YCDqyrLZLwMc",
        "outputId": "33e3fde0-94b0-48c8-8b2f-026ec3a7faf8"
      },
      "outputs": [
        {
          "name": "stdout",
          "output_type": "stream",
          "text": [
            "Conteudo do aquivo file_.txt:\n",
            " [ 1  2  3  4  5  6  7  8  9 10]\n"
          ]
        }
      ],
      "source": [
        "#o arquivo lido estará no ficheiro do colab\n",
        "file = open(\"file_.txt\", \"r\")\n",
        "content = file.read()\n",
        " \n",
        "print(\"Conteudo do aquivo file_.txt:\\n\", content)\n",
        "file.close()"
      ]
    },
    {
      "cell_type": "markdown",
      "metadata": {
        "id": "eBUACSoBL9MF"
      },
      "source": [
        "##Plot line graph from NumPy array"
      ]
    },
    {
      "cell_type": "code",
      "execution_count": null,
      "metadata": {
        "colab": {
          "base_uri": "https://localhost:8080/",
          "height": 349
        },
        "id": "Mjbgnq9fMnII",
        "outputId": "3e97a628-8b9b-4942-fa50-d076927082d6"
      },
      "outputs": [
        {
          "name": "stdout",
          "output_type": "stream",
          "text": [
            "Array usado no examplo:  ['1.1' '1.5' '2.7' '8.9']\n",
            "\n",
            "\n"
          ]
        },
        {
          "data": {
            "image/png": "[encoded data removed]",
            "text/plain": [
              "<Figure size 432x288 with 1 Axes>"
            ]
          },
          "metadata": {
            "needs_background": "light"
          },
          "output_type": "display_data"
        }
      ],
      "source": [
        "import matplotlib.pyplot as plt\n",
        " \n",
        "array = np.array([1,2,3,4,5,6,7,8,9,10])\n",
        "print(\"Array usado no examplo: \", array1)\n",
        "print(\"\\n\")\n",
        "saida = array**2\n",
        " \n",
        "plt.title(\"Line graph\")\n",
        "plt.xlabel(\"X axis\")\n",
        "plt.ylabel(\"Y axis\")\n",
        "plt.plot(array, saida, color =\"red\")\n",
        "plt.show()"
      ]
    },
    {
      "cell_type": "markdown",
      "metadata": {
        "id": "Y3S3JIbNNLML"
      },
      "source": [
        "##Create Histogram using NumPy"
      ]
    },
    {
      "cell_type": "code",
      "execution_count": null,
      "metadata": {
        "colab": {
          "base_uri": "https://localhost:8080/",
          "height": 446
        },
        "id": "_R1ndaAuNNR7",
        "outputId": "a5d42777-0fd9-4ed9-ba70-b175f46f63cb"
      },
      "outputs": [
        {
          "name": "stdout",
          "output_type": "stream",
          "text": [
            "Array usado no examplo:  ['1.1' '1.5' '2.7' '8.9']\n"
          ]
        },
        {
          "data": {
            "image/png": "[encoded data removed]",
            "text/plain": [
              "<Figure size 720x504 with 1 Axes>"
            ]
          },
          "metadata": {
            "needs_background": "light"
          },
          "output_type": "display_data"
        }
      ],
      "source": [
        "array = np.array([10,21,39,42,58,63,77,84,96,15])\n",
        "print(\"Array usado no examplo: \", array1)\n",
        " \n",
        "fig, ax = plt.subplots(figsize =(10, 7))\n",
        "ax.hist(array, bins = [0, 25, 50, 75, 100])\n",
        " \n",
        "plt.show()"
      ]
    }
  ],
  "metadata": {
    "colab": {
      "collapsed_sections": [
        "EGiQ8HzC0JPu",
        "3di262PRbKNf",
        "3YLi8g6sSlH0",
        "EIEdWlN9MTAq",
        "UD0jLNF1Nus7",
        "S-skuAgbXbHH",
        "R0ibYhDPbkkm",
        "To_D049ih5-q",
        "mWHZdPjMv1d1",
        "ang-sG_z7JfL",
        "by-MiMrM9Na9"
      ],
      "provenance": [],
      "toc_visible": true
    },
    "kernelspec": {
      "display_name": "Python 3",
      "name": "python3"
    },
    "language_info": {
      "codemirror_mode": {
        "name": "ipython",
        "version": 3
      },
      "file_extension": ".py",
      "mimetype": "text/x-python",
      "name": "python",
      "nbconvert_exporter": "python",
      "pygments_lexer": "ipython3",
      "version": "3.11.4"
    }
  },
  "nbformat": 4,
  "nbformat_minor": 0
}
