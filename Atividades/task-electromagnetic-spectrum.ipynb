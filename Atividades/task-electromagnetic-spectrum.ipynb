{
 "cells": [
  {
   "cell_type": "markdown",
   "id": "4118355a-3641-477c-8c44-9ce4875aceb9",
   "metadata": {},
   "source": [
    "# Task Electromagnetic Spectrum"
   ]
  },
  {
   "cell_type": "markdown",
   "id": "5809be4f-f06a-4fcc-b89b-249f20a68dd4",
   "metadata": {},
   "source": [
    "Develop the code capable of generating the image ```em-spectrum.png``` with dimensions $100\\times 1000$."
   ]
  },
  {
   "cell_type": "code",
   "execution_count": 2,
   "id": "400b9eed-0f7d-40f8-9dfa-a10eb6bc1e73",
   "metadata": {},
   "outputs": [],
   "source": [
    "import cv2\n",
    "import matplotlib.pyplot as plt\n",
    "import numpy as np"
   ]
  },
  {
   "cell_type": "code",
   "execution_count": 29,
   "id": "556531ce",
   "metadata": {},
   "outputs": [
    {
     "data": {
      "text/plain": [
       "<matplotlib.image.AxesImage at 0x162f0686e90>"
      ]
     },
     "execution_count": 29,
     "metadata": {},
     "output_type": "execute_result"
    },
    {
     "data": {
      "image/png": "[encoded data removed]",
      "text/plain": [
       "<Figure size 640x480 with 1 Axes>"
      ]
     },
     "metadata": {},
     "output_type": "display_data"
    }
   ],
   "source": [
    "bgr = cv2.imread('../Imagens/em-spectrum.png')\n",
    "rgb = cv2.cvtColor(bgr, cv2.COLOR_BGR2RGB)\n",
    "plt.imshow(rgb)"
   ]
  },
  {
   "cell_type": "code",
   "execution_count": 38,
   "id": "26dd67b4",
   "metadata": {},
   "outputs": [
    {
     "data": {
      "image/png": "[encoded data removed]",
      "text/plain": [
       "<Figure size 640x480 with 1 Axes>"
      ]
     },
     "metadata": {},
     "output_type": "display_data"
    }
   ],
   "source": [
    "height = 100\n",
    "width = 1000\n",
    "image = np.zeros((height, width, 3), dtype=np.uint8)\n",
    "\n",
    "for x in range(width):\n",
    "    hue = int(180 * x / width)  # Mapeia a posição para o intervalo de 0 a 180 (Hue)\n",
    "    color = np.array([[[hue, 255, 255]]], dtype=np.uint8) # Cria um pixel com a cor no espaço HSV\n",
    "    rgb_color = cv2.cvtColor(color, cv2.COLOR_HSV2RGB) # Converte a cor para o espaço RGB\n",
    "    image[:, x, :] = rgb_color # Pinta a coluna x com a cor calculada\n",
    "\n",
    "image = cv2.cvtColor(image, cv2.COLOR_BGR2RGB)\n",
    "plt.imshow(image)\n",
    "plt.show()\n"
   ]
  }
 ],
 "metadata": {
  "kernelspec": {
   "display_name": "Python 3 (ipykernel)",
   "language": "python",
   "name": "python3"
  },
  "language_info": {
   "codemirror_mode": {
    "name": "ipython",
    "version": 3
   },
   "file_extension": ".py",
   "mimetype": "text/x-python",
   "name": "python",
   "nbconvert_exporter": "python",
   "pygments_lexer": "ipython3",
   "version": "3.11.4"
  }
 },
 "nbformat": 4,
 "nbformat_minor": 5
}
