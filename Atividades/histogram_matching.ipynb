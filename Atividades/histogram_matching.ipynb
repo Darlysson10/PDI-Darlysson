{
 "cells": [
  {
   "cell_type": "markdown",
   "id": "d0da4ccd",
   "metadata": {},
   "source": [
    "Before you turn this problem in, make sure everything runs as expected. First, **restart the kernel** (in the menubar, select Kernel$\\rightarrow$Restart) and then **run all cells** (in the menubar, select Cell$\\rightarrow$Run All).\n",
    "\n",
    "Make sure you fill in any place that says `YOUR CODE HERE` or \"YOUR ANSWER HERE\", as well as your name and collaborators below:"
   ]
  },
  {
   "cell_type": "code",
   "execution_count": 2,
   "id": "f7b140d3",
   "metadata": {},
   "outputs": [],
   "source": [
    "NAME = \"Darlysson Olímpio Nascimento\"\n",
    "COLLABORATORS = \"Darlysson Olímpio Nascimento\""
   ]
  },
  {
   "cell_type": "markdown",
   "id": "95a11441",
   "metadata": {},
   "source": [
    "---"
   ]
  },
  {
   "cell_type": "code",
   "execution_count": 15,
   "id": "bc129fb8",
   "metadata": {
    "deletable": false,
    "editable": false,
    "nbgrader": {
     "cell_type": "code",
     "checksum": "1407079691e6fab7cd2a4eec77dcfbee",
     "grade": false,
     "grade_id": "imports",
     "locked": true,
     "schema_version": 3,
     "solution": false,
     "task": false
    },
    "tags": []
   },
   "outputs": [],
   "source": [
    "from skimage import exposure\n",
    "import matplotlib.pyplot as plt\n",
    "import cv2\n",
    "import numpy as np\n",
    "path = '../Imagens/'"
   ]
  },
  {
   "cell_type": "markdown",
   "id": "07cbacb9",
   "metadata": {
    "deletable": false,
    "editable": false,
    "nbgrader": {
     "cell_type": "markdown",
     "checksum": "7c23dfd79163edbbdb1fff31cdb47a79",
     "grade": false,
     "grade_id": "intro",
     "locked": true,
     "schema_version": 3,
     "solution": false,
     "task": false
    },
    "tags": []
   },
   "source": [
    "## Introduction\n",
    "\n",
    "\n",
    "Histogram matching, also known as histogram equalization, is a technique used to adjust the contrast and enhance the overall appearance of an image. With OpenCV, a powerful computer vision library in Python, histogram matching can be easily implemented.\n",
    "\n",
    "The goal of histogram matching is to modify the intensity distribution of an image to match a specified reference histogram. By aligning the histogram of an image to a desired target histogram, we can achieve a desired image appearance or transfer the visual characteristics from one image to another.\n",
    "\n",
    "Histogram matching involves several steps, including calculating the histograms of the source and target images, computing cumulative distribution functions, and mapping the intensity values to match the target histogram. By applying these operations, we can effectively adjust the contrast and enhance the visual quality of an image.\n",
    "\n",
    "For more details, refer to:\n",
    "\n",
    "[Histogram matching with OpenCV and Python](https://pyimagesearch.com/2018/12/17/image-stitching-with-opencv-and-python/)"
   ]
  },
  {
   "cell_type": "markdown",
   "id": "7371ca82",
   "metadata": {
    "deletable": false,
    "editable": false,
    "nbgrader": {
     "cell_type": "markdown",
     "checksum": "f82758dedeeff2b83997f9b8e5e30b55",
     "grade": false,
     "grade_id": "prompt",
     "locked": true,
     "schema_version": 3,
     "solution": false,
     "task": false
    },
    "tags": []
   },
   "source": [
    "### Implement histogram matching by transferring features from one image to another, as exemplified in the referenced link in the introduction. Your function should return the matched image and its histograms of the red, green, and blue channels, respectively, based on the provided images.\n",
    "\n",
    "See reference:\n",
    "\n",
    "[skimage.exposure](https://scikit-image.org/docs/stable/api/skimage.exposure.html)"
   ]
  },
  {
   "cell_type": "code",
   "execution_count": 10,
   "id": "01eedaa7",
   "metadata": {},
   "outputs": [],
   "source": [
    "def match_histograms(image, reference):\n",
    "    # Equalize histogram\n",
    "    image = cv2.cvtColor(image, cv2.COLOR_BGR2GRAY)\n",
    "    reference = cv2.cvtColor(reference, cv2.COLOR_BGR2GRAY)\n",
    "    image = exposure.equalize_hist(image)\n",
    "    reference = exposure.equalize_hist(reference)\n",
    "    # Convert to 8-bit\n",
    "    image = (image * 255).astype(np.uint8)\n",
    "    reference = (reference * 255).astype(np.uint8)\n",
    "    # Create a CLAHE object\n",
    "    clahe = cv2.createCLAHE(clipLimit=2.0, tileGridSize=(8, 8))\n",
    "    # Apply CLAHE\n",
    "    image = clahe.apply(image)\n",
    "    reference = clahe.apply(reference)\n",
    "    # Convert to 8-bit\n",
    "    image = (image * 255).astype(np.uint8)\n",
    "    reference = (reference * 255).astype(np.uint8)\n",
    "    # Create a LUT\n",
    "    lut = np.zeros(256, dtype=reference.dtype)\n",
    "    # Create a histogram\n",
    "    hist_image, _ = np.histogram(image, bins=256, range=[0, 256])\n",
    "    hist_reference, _ = np.histogram(reference, bins=256, range=[0, 256])\n",
    "    # Compute the CDF\n",
    "    cdf_image = hist_image.cumsum()\n",
    "    cdf_reference = hist_reference.cumsum()\n",
    "    # Normalize the CDF\n",
    "    cdf_image = (cdf_image - cdf_image.min()) * 255 / (cdf_image.max() - cdf_image.min())\n",
    "    cdf_reference = (cdf_reference - cdf_reference.min()) * 255 / (cdf_reference.max() - cdf_reference.min())\n",
    "    # Create the LUT\n",
    "    for i in range(256):\n",
    "        lut[i] = np.argmin(np.abs(cdf_image[i] - cdf_reference))\n",
    "    # Apply the LUT\n",
    "    image = cv2.LUT(image, lut)\n",
    "    return image"
   ]
  },
  {
   "cell_type": "code",
   "execution_count": 13,
   "id": "4fc3fcd5",
   "metadata": {
    "deletable": false,
    "nbgrader": {
     "cell_type": "code",
     "checksum": "1d43c7d5c512f208fd9cd65ccbbc3376",
     "grade": false,
     "grade_id": "histogram-func",
     "locked": false,
     "schema_version": 3,
     "solution": true,
     "task": false
    },
    "tags": []
   },
   "outputs": [],
   "source": [
    "def histogram_matching(src, ref):\n",
    "    \"\"\"\n",
    "    Perform histogram matching between a source image and a reference image\n",
    "    using match_histograms(), and return the matched image and histograms\n",
    "    for red, green, and blue channels.\n",
    "\n",
    "    Parameters:\n",
    "    src (numpy.ndarray): The source image as a NumPy array.\n",
    "    ref (numpy.ndarray): The reference image as a NumPy array.\n",
    "\n",
    "    Returns:\n",
    "    numpy.ndarray: The matched image as a NumPy array.\n",
    "    tuple: Tuple containing histograms for red, green, and blue channels.\n",
    "    \"\"\"\n",
    "    # YOUR CODE HERE\n",
    "    matched = match_histograms(src, ref)\n",
    "    cv2.imwrite('matched.png', matched)\n",
    "    red_hist = cv2.calcHist([matched], [0], None, [256], [0, 256])\n",
    "    green_hist = cv2.calcHist([matched], [1], None, [256], [0, 256])\n",
    "    blue_hist = cv2.calcHist([matched], [2], None, [256], [0, 256])\n",
    "    return matched, (red_hist, green_hist, blue_hist)"
   ]
  },
  {
   "cell_type": "code",
   "execution_count": 16,
   "id": "3c9364dc",
   "metadata": {
    "tags": []
   },
   "outputs": [
    {
     "ename": "error",
     "evalue": "OpenCV(4.8.1) D:\\a\\opencv-python\\opencv-python\\opencv\\modules\\imgproc\\src\\histogram.cpp:160: error: (-215:Assertion failed) j < nimages in function 'cv::histPrepareImages'\n",
     "output_type": "error",
     "traceback": [
      "\u001b[1;31m---------------------------------------------------------------------------\u001b[0m",
      "\u001b[1;31merror\u001b[0m                                     Traceback (most recent call last)",
      "Cell \u001b[1;32mIn[16], line 5\u001b[0m\n\u001b[0;32m      3\u001b[0m source_image \u001b[38;5;241m=\u001b[39m cv2\u001b[38;5;241m.\u001b[39mimread(imfile_source)\n\u001b[0;32m      4\u001b[0m reference_image \u001b[38;5;241m=\u001b[39m cv2\u001b[38;5;241m.\u001b[39mimread(imfile_reference)\n\u001b[1;32m----> 5\u001b[0m result, histograms \u001b[38;5;241m=\u001b[39m \u001b[43mhistogram_matching\u001b[49m\u001b[43m(\u001b[49m\u001b[43msource_image\u001b[49m\u001b[43m,\u001b[49m\u001b[43m \u001b[49m\u001b[43mreference_image\u001b[49m\u001b[43m)\u001b[49m\n\u001b[0;32m      6\u001b[0m \u001b[38;5;66;03m# Do whatever test you want\u001b[39;00m\n",
      "Cell \u001b[1;32mIn[13], line 18\u001b[0m, in \u001b[0;36mhistogram_matching\u001b[1;34m(src, ref)\u001b[0m\n\u001b[0;32m     16\u001b[0m matched \u001b[38;5;241m=\u001b[39m match_histograms(src, ref)\n\u001b[0;32m     17\u001b[0m red_hist \u001b[38;5;241m=\u001b[39m cv2\u001b[38;5;241m.\u001b[39mcalcHist([matched], [\u001b[38;5;241m0\u001b[39m], \u001b[38;5;28;01mNone\u001b[39;00m, [\u001b[38;5;241m256\u001b[39m], [\u001b[38;5;241m0\u001b[39m, \u001b[38;5;241m256\u001b[39m])\n\u001b[1;32m---> 18\u001b[0m green_hist \u001b[38;5;241m=\u001b[39m \u001b[43mcv2\u001b[49m\u001b[38;5;241;43m.\u001b[39;49m\u001b[43mcalcHist\u001b[49m\u001b[43m(\u001b[49m\u001b[43m[\u001b[49m\u001b[43mmatched\u001b[49m\u001b[43m]\u001b[49m\u001b[43m,\u001b[49m\u001b[43m \u001b[49m\u001b[43m[\u001b[49m\u001b[38;5;241;43m1\u001b[39;49m\u001b[43m]\u001b[49m\u001b[43m,\u001b[49m\u001b[43m \u001b[49m\u001b[38;5;28;43;01mNone\u001b[39;49;00m\u001b[43m,\u001b[49m\u001b[43m \u001b[49m\u001b[43m[\u001b[49m\u001b[38;5;241;43m256\u001b[39;49m\u001b[43m]\u001b[49m\u001b[43m,\u001b[49m\u001b[43m \u001b[49m\u001b[43m[\u001b[49m\u001b[38;5;241;43m0\u001b[39;49m\u001b[43m,\u001b[49m\u001b[43m \u001b[49m\u001b[38;5;241;43m256\u001b[39;49m\u001b[43m]\u001b[49m\u001b[43m)\u001b[49m\n\u001b[0;32m     19\u001b[0m blue_hist \u001b[38;5;241m=\u001b[39m cv2\u001b[38;5;241m.\u001b[39mcalcHist([matched], [\u001b[38;5;241m2\u001b[39m], \u001b[38;5;28;01mNone\u001b[39;00m, [\u001b[38;5;241m256\u001b[39m], [\u001b[38;5;241m0\u001b[39m, \u001b[38;5;241m256\u001b[39m])\n\u001b[0;32m     20\u001b[0m \u001b[38;5;28;01mreturn\u001b[39;00m matched, (red_hist, green_hist, blue_hist)\n",
      "\u001b[1;31merror\u001b[0m: OpenCV(4.8.1) D:\\a\\opencv-python\\opencv-python\\opencv\\modules\\imgproc\\src\\histogram.cpp:160: error: (-215:Assertion failed) j < nimages in function 'cv::histPrepareImages'\n"
     ]
    }
   ],
   "source": [
    "imfile_source = path + 'source.jpg'\n",
    "imfile_reference = path + 'reference.jpg'\n",
    "source_image = cv2.imread(imfile_source)\n",
    "reference_image = cv2.imread(imfile_reference)\n",
    "result, histograms = histogram_matching(source_image, reference_image)\n",
    "# Do whatever test you want"
   ]
  },
  {
   "cell_type": "code",
   "execution_count": null,
   "id": "ba3b6184",
   "metadata": {
    "deletable": false,
    "editable": false,
    "nbgrader": {
     "cell_type": "code",
     "checksum": "2919acec2e46eabe3c5b33bee1f6e64f",
     "grade": true,
     "grade_id": "histogram-test",
     "locked": true,
     "points": 1,
     "schema_version": 3,
     "solution": false,
     "task": false
    },
    "tags": []
   },
   "outputs": [],
   "source": [
    "# Do not touch this cell\n",
    "# Do not touch this cell"
   ]
  }
 ],
 "metadata": {
  "kernelspec": {
   "display_name": "Python 3 (ipykernel)",
   "language": "python",
   "name": "python3"
  },
  "language_info": {
   "codemirror_mode": {
    "name": "ipython",
    "version": 3
   },
   "file_extension": ".py",
   "mimetype": "text/x-python",
   "name": "python",
   "nbconvert_exporter": "python",
   "pygments_lexer": "ipython3",
   "version": "3.11.4"
  }
 },
 "nbformat": 4,
 "nbformat_minor": 5
}
